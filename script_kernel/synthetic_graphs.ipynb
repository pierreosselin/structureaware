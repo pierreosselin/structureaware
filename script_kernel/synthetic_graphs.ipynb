{
 "cells": [
  {
   "cell_type": "code",
   "execution_count": 8,
   "metadata": {},
   "outputs": [],
   "source": [
    "import networkx as nx\n",
    "import numpy as np\n",
    "import matplotlib.pyplot as plt"
   ]
  },
  {
   "cell_type": "code",
   "execution_count": 9,
   "metadata": {},
   "outputs": [],
   "source": [
    "pickle.load(open('synthetic_graphs.p'))"
   ]
  },
  {
   "cell_type": "code",
   "execution_count": 10,
   "metadata": {},
   "outputs": [],
   "source": [
    "def rotate_vector(x, midpoint, degrees):\n",
    "    x = x - midpoint\n",
    "    theta = np.radians(degrees)\n",
    "    c, s = np.cos(theta), np.sin(theta)\n",
    "    R = np.array(((c, -s), (s, c)))\n",
    "    return (R @ x) + midpoint\n",
    "\n",
    "def nodecolours(graph, main_colour, second_colour):\n",
    "    node_colours = []\n",
    "    for node in graph.nodes():\n",
    "        if node < motif_n:\n",
    "            node_colours.append(main_colour)\n",
    "        else:\n",
    "            node_colours.append(second_colour)\n",
    "    return node_colours\n",
    "\n",
    "def edgecolours(graph, main_colour, second_colour):\n",
    "    edge_colours = []\n",
    "    for edge in graph.edges():\n",
    "        if edge[0] < motif_n and edge[1] < motif_n:\n",
    "            edge_colours.append(main_colour)\n",
    "        else:\n",
    "            edge_colours.append(second_colour)\n",
    "    return edge_colours\n",
    "\n",
    "motif_n = 10\n",
    "random_n = 10\n",
    "blue = [0, 0.4470, 0.7410]\n",
    "red = [0.8500, 0.3250, 0.0980]\n",
    "grey = [0.5, 0.5, 0.5]"
   ]
  },
  {
   "cell_type": "code",
   "execution_count": 11,
   "metadata": {},
   "outputs": [
    {
     "data": {
      "image/png": "[encoded data removed]",
      "text/plain": [
       "<Figure size 432x216 with 1 Axes>"
      ]
     },
     "metadata": {},
     "output_type": "display_data"
    }
   ],
   "source": [
    "pos = nx.spring_layout(graph_0, seed=0)\n",
    "pos = {key: rotate_vector(value, np.mean(list(pos.values()), axis=0), -90) for key, value in pos.items()}\n",
    "\n",
    "# motif \n",
    "circle_pos = nx.circular_layout(nx.path_graph(motif_n))\n",
    "anchor = (0.4, np.mean([pos[i] for i in range(motif_n, motif_n+random_n)], axis=0)[1])\n",
    "circle_pos = {key: 0.2*value + anchor for key, value in circle_pos.items()}\n",
    "circle_pos = {key: rotate_vector(value, np.mean(list(circle_pos.values()), axis=0), 220) for key, value in circle_pos.items()}\n",
    "pos.update(circle_pos)\n",
    "\n",
    "fig, ax = plt.subplots(1, 1, figsize=(6, 3))\n",
    "nx.draw_networkx_nodes(graph_0, pos=pos, node_color=nodecolours(graph_0, red, grey), ax=ax)\n",
    "nx.draw_networkx_edges(graph_0, pos=pos, edge_color=edgecolours(graph_0, red, grey), ax=ax)\n",
    "ax.axis('off')\n",
    "fig.savefig('../figures/graph_0.eps', format='eps', bbox_inches='tight')"
   ]
  },
  {
   "cell_type": "code",
   "execution_count": null,
   "metadata": {},
   "outputs": [],
   "source": []
  }
 ],
 "metadata": {
  "kernelspec": {
   "display_name": "Python 3.9.12 ('cert')",
   "language": "python",
   "name": "python3"
  },
  "language_info": {
   "codemirror_mode": {
    "name": "ipython",
    "version": 3
   },
   "file_extension": ".py",
   "mimetype": "text/x-python",
   "name": "python",
   "nbconvert_exporter": "python",
   "pygments_lexer": "ipython3",
   "version": "3.9.12"
  },
  "orig_nbformat": 4,
  "vscode": {
   "interpreter": {
    "hash": "d65551de787edf5c8148b81248acedb88d24ef64c2feeaf5a7c8f1aae967c178"
   }
  }
 },
 "nbformat": 4,
 "nbformat_minor": 2
}
