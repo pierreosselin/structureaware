{
 "cells": [
  {
   "cell_type": "code",
   "execution_count": 47,
   "metadata": {},
   "outputs": [],
   "source": [
    "import warnings\n",
    "warnings.simplefilter(action='ignore', category=FutureWarning)\n",
    "\n",
    "import pickle\n",
    "from grakel.kernels import GraphletSampling\n",
    "from sklearn.svm import SVC\n",
    "import numpy as np\n",
    "import networkx as nx\n",
    "import torch\n",
    "from communityaware.perturb import _perturb_graph_vmap\n",
    "import grakel\n",
    "from timebudget import timebudget"
   ]
  },
  {
   "cell_type": "code",
   "execution_count": 56,
   "metadata": {},
   "outputs": [],
   "source": [
    "P = (0.1, 0.45)\n",
    "repeats = 1000"
   ]
  },
  {
   "cell_type": "code",
   "execution_count": 57,
   "metadata": {},
   "outputs": [],
   "source": [
    "# value of p\n",
    "noise_matrix = np.zeros((10, 10))\n",
    "noise_matrix[0, 2] = P[0]\n",
    "noise_matrix[0, 3] = P[0]\n",
    "noise_matrix[1, 3] = P[0]\n",
    "noise_matrix[1, 4] = P[0]\n",
    "noise_matrix[2, 4] = P[0]\n",
    "noise_matrix = noise_matrix + noise_matrix.T\n",
    "noise_matrix[5:, 5:] = P[1]\n",
    "np.fill_diagonal(noise_matrix, 0)\n",
    "noise_matrix = torch.tensor(noise_matrix)"
   ]
  },
  {
   "cell_type": "code",
   "execution_count": 58,
   "metadata": {},
   "outputs": [
    {
     "data": {
      "text/plain": [
       "SVC(kernel='precomputed')"
      ]
     },
     "execution_count": 58,
     "metadata": {},
     "output_type": "execute_result"
    }
   ],
   "source": [
    "# load data\n",
    "data = pickle.load(open('../data/kernel/data.pkl', 'rb'))\n",
    "G_train = data['G_train']\n",
    "y_train = data['y_train']\n",
    "G_test = data['G_test']\n",
    "y_test = data['y_test']\n",
    "\n",
    "# fit the kernel\n",
    "kernel = GraphletSampling(k=5)\n",
    "K_train = kernel.fit_transform(G_train)\n",
    "clf = SVC(kernel='precomputed')\n",
    "clf.fit(K_train, y_train)"
   ]
  },
  {
   "cell_type": "code",
   "execution_count": 59,
   "metadata": {},
   "outputs": [
    {
     "name": "stdout",
     "output_type": "stream",
     "text": [
      "Make test kernel took 15.956sec\n",
      "0.89\n"
     ]
    }
   ],
   "source": [
    "votes = []\n",
    "for test_sample, label in zip(G_test, y_test):\n",
    "    \n",
    "    # extract the graph\n",
    "    graph_dict = test_sample[0]\n",
    "    graph = nx.Graph()\n",
    "    graph.add_nodes_from(sorted(graph_dict.keys()))\n",
    "    for node in graph_dict:\n",
    "        for neighbour in graph_dict[node]:\n",
    "            graph.add_edge(node, neighbour)\n",
    "    A = torch.tensor(np.array(nx.adjacency_matrix(graph).todense()))\n",
    "\n",
    "    # perturb graphs\n",
    "    perturbed_graphs = _perturb_graph_vmap(A.unsqueeze(0).repeat(repeats, 1, 1), noise_matrix.unsqueeze(0).repeat(repeats, 1, 1)).numpy()\n",
    "    perturbed_graphs = [nx.from_numpy_matrix(perturbed_graph) for perturbed_graph in perturbed_graphs]\n",
    "    perturbed_graphs = grakel.graph_from_networkx(perturbed_graphs)\n",
    "\n",
    "    with timebudget('Make test kernel'):\n",
    "        K_test = kernel.transform(perturbed_graphs)\n",
    "\n",
    "    \n",
    "    y_pred = clf.predict(K_test)\n",
    "    test_accuracy = np.mean(y_pred == label)\n",
    "\n",
    "    print(test_accuracy)\n",
    "    votes.append(torch.bincount(torch.tensor(y_pred).transpose(-1, 0), minlength=2))\n",
    "    break"
   ]
  },
  {
   "cell_type": "code",
   "execution_count": 63,
   "metadata": {},
   "outputs": [
    {
     "data": {
      "text/plain": [
       "'0.1_0.45'"
      ]
     },
     "execution_count": 63,
     "metadata": {},
     "output_type": "execute_result"
    }
   ],
   "source": [
    "from os.path import join\n",
    "\n",
    "\n",
    "fname"
   ]
  },
  {
   "cell_type": "code",
   "execution_count": 55,
   "metadata": {},
   "outputs": [
    {
     "data": {
      "text/plain": [
       "50"
      ]
     },
     "execution_count": 55,
     "metadata": {},
     "output_type": "execute_result"
    }
   ],
   "source": [
    "len(G_test)"
   ]
  },
  {
   "cell_type": "code",
   "execution_count": 65,
   "metadata": {},
   "outputs": [
    {
     "data": {
      "text/plain": [
       "tensor([[10,  0],\n",
       "        [ 1,  9],\n",
       "        [10,  0],\n",
       "        [ 2,  8],\n",
       "        [ 1,  9],\n",
       "        [10,  0],\n",
       "        [ 0, 10],\n",
       "        [10,  0],\n",
       "        [10,  0],\n",
       "        [ 0, 10]])"
      ]
     },
     "execution_count": 65,
     "metadata": {},
     "output_type": "execute_result"
    }
   ],
   "source": [
    "torch.load('../output/kernel/votes/0.05_0.45')"
   ]
  },
  {
   "cell_type": "code",
   "execution_count": 66,
   "metadata": {},
   "outputs": [],
   "source": [
    "# load data\n",
    "data = pickle.load(open('../data/kernel/data.pkl', 'rb'))\n",
    "G_train = data['G_train']\n",
    "y_train = data['y_train']\n",
    "G_test = data['G_test']\n",
    "y_test = data['y_test']\n"
   ]
  },
  {
   "cell_type": "code",
   "execution_count": 67,
   "metadata": {},
   "outputs": [
    {
     "data": {
      "text/plain": [
       "array([0, 1, 0, 1, 1, 0, 1, 0, 0, 1])"
      ]
     },
     "execution_count": 67,
     "metadata": {},
     "output_type": "execute_result"
    }
   ],
   "source": [
    "y_test"
   ]
  },
  {
   "cell_type": "code",
   "execution_count": null,
   "metadata": {},
   "outputs": [],
   "source": []
  }
 ],
 "metadata": {
  "interpreter": {
   "hash": "d65551de787edf5c8148b81248acedb88d24ef64c2feeaf5a7c8f1aae967c178"
  },
  "kernelspec": {
   "display_name": "Python 3.9.12 ('cert')",
   "language": "python",
   "name": "python3"
  },
  "language_info": {
   "codemirror_mode": {
    "name": "ipython",
    "version": 3
   },
   "file_extension": ".py",
   "mimetype": "text/x-python",
   "name": "python",
   "nbconvert_exporter": "python",
   "pygments_lexer": "ipython3",
   "version": "3.9.12"
  },
  "orig_nbformat": 4
 },
 "nbformat": 4,
 "nbformat_minor": 2
}
