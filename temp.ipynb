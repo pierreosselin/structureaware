{
 "cells": [
  {
   "cell_type": "code",
   "execution_count": 137,
   "metadata": {},
   "outputs": [],
   "source": []
  },
  {
   "cell_type": "code",
   "execution_count": 138,
   "metadata": {},
   "outputs": [],
   "source": [
    "ra = 5\n",
    "rd = 3\n",
    "pf_plus = 0.01\n",
    "pf_minus = 0.02\n",
    "\n",
    "\n",
    "max_q = ra + rd\n",
    "i_vec = np.arange(0, max_q + 1)\n",
    "\n",
    "T = ra * ((pf_plus / (1 - pf_plus)) ** i_vec) + \\\n",
    "    rd * ((pf_minus / (1 - pf_minus)) ** i_vec)\n",
    "\n",
    "ratio = np.zeros_like(T)\n",
    "px = np.zeros_like(T)\n",
    "px[0] = 1\n",
    "\n",
    "for q in range(0, max_q + 1):\n",
    "\n",
    "    ratio[q] = (pf_plus/(1-pf_minus)) ** (q - rd) * \\\n",
    "        (pf_minus/(1-pf_plus)) ** (q - ra) # proposition 3 \n",
    "\n",
    "    if q == 0:\n",
    "        continue \n",
    "\n",
    "    for i in range(1, q + 1):\n",
    "        px[q] = px[q] + ((-1) ** (i + 1)) * T[i] * px[q - i]\n",
    "    px[q] = px[q] / q\n",
    "\n",
    "scale = ((1-pf_plus) ** ra) * ((1-pf_minus) ** rd)\n",
    "\n",
    "px = px * scale"
   ]
  },
  {
   "cell_type": "code",
   "execution_count": 139,
   "metadata": {},
   "outputs": [
    {
     "data": {
      "text/plain": [
       "array([8.95064227e-01, 1.00005115e-01, 4.79927118e-03, 1.29228098e-04,\n",
       "       2.13667186e-06, 2.22348752e-08, 1.42382400e-10, 5.13600000e-13,\n",
       "       8.00000000e-16])"
      ]
     },
     "execution_count": 139,
     "metadata": {},
     "output_type": "execute_result"
    }
   ],
   "source": [
    "px"
   ]
  },
  {
   "cell_type": "code",
   "execution_count": 144,
   "metadata": {},
   "outputs": [],
   "source": [
    "my_px = []\n",
    "qymp_R = (gmpy2.mpz(3), gmpy2.mpz(5))\n",
    "gymp_p = (gmpy2.mpfr(0.02),gmpy2.mpfr(0.01))\n",
    "for i in range(9):\n",
    "    Q = gmpy2.mpz(i)\n",
    "    my_px.append(float(P_phi_x_in_region(Q, qymp_R, gymp_p)))"
   ]
  },
  {
   "cell_type": "code",
   "execution_count": 146,
   "metadata": {},
   "outputs": [
    {
     "data": {
      "text/plain": [
       "True"
      ]
     },
     "execution_count": 146,
     "metadata": {},
     "output_type": "execute_result"
    }
   ],
   "source": [
    "np.allclose(my_px, px)"
   ]
  },
  {
   "cell_type": "code",
   "execution_count": 133,
   "metadata": {},
   "outputs": [
    {
     "data": {
      "text/plain": [
       "array([1.00000000e+00, 1.11729540e-01, 5.36192938e-03, 1.44378576e-04,\n",
       "       2.38717155e-06, 2.48416533e-08, 1.59075065e-10, 5.73813571e-13,\n",
       "       8.93790608e-16])"
      ]
     },
     "execution_count": 133,
     "metadata": {},
     "output_type": "execute_result"
    }
   ],
   "source": [
    "px"
   ]
  },
  {
   "cell_type": "code",
   "execution_count": 134,
   "metadata": {},
   "outputs": [
    {
     "data": {
      "text/plain": [
       "[mpfr('1.0'),\n",
       " mpfr('0.11172954030096888'),\n",
       " mpfr('0.0053619293834860585'),\n",
       " mpfr('0.00014437857558196614'),\n",
       " mpfr('2.3871715475133503e-06'),\n",
       " mpfr('2.4841653289390358e-08'),\n",
       " mpfr('1.5907506489225949e-10'),\n",
       " mpfr('5.7381357055832728e-13'),\n",
       " mpfr('8.9379060834624833e-16')]"
      ]
     },
     "execution_count": 134,
     "metadata": {},
     "output_type": "execute_result"
    }
   ],
   "source": [
    "my_px"
   ]
  },
  {
   "cell_type": "code",
   "execution_count": 76,
   "metadata": {},
   "outputs": [
    {
     "data": {
      "text/plain": [
       "0.05576646874627702"
      ]
     },
     "execution_count": 76,
     "metadata": {},
     "output_type": "execute_result"
    }
   ],
   "source": [
    "0.5 * (T[1]*px[0] - T[2]*px[1])"
   ]
  },
  {
   "cell_type": "code",
   "execution_count": 77,
   "metadata": {},
   "outputs": [
    {
     "data": {
      "text/plain": [
       "0.00536192938"
      ]
     },
     "execution_count": 77,
     "metadata": {},
     "output_type": "execute_result"
    }
   ],
   "source": [
    "5.36192938e-03"
   ]
  },
  {
   "cell_type": "code",
   "execution_count": 56,
   "metadata": {},
   "outputs": [
    {
     "data": {
      "text/plain": [
       "True"
      ]
     },
     "execution_count": 56,
     "metadata": {},
     "output_type": "execute_result"
    }
   ],
   "source": []
  },
  {
   "cell_type": "code",
   "execution_count": null,
   "metadata": {},
   "outputs": [],
   "source": []
  }
 ],
 "metadata": {
  "kernelspec": {
   "display_name": "Python 3.9.12 ('cert')",
   "language": "python",
   "name": "python3"
  },
  "language_info": {
   "codemirror_mode": {
    "name": "ipython",
    "version": 3
   },
   "file_extension": ".py",
   "mimetype": "text/x-python",
   "name": "python",
   "nbconvert_exporter": "python",
   "pygments_lexer": "ipython3",
   "version": "3.9.12"
  },
  "orig_nbformat": 4,
  "vscode": {
   "interpreter": {
    "hash": "d65551de787edf5c8148b81248acedb88d24ef64c2feeaf5a7c8f1aae967c178"
   }
  }
 },
 "nbformat": 4,
 "nbformat_minor": 2
}
