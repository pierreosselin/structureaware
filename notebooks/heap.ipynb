{
 "cells": [
  {
   "cell_type": "code",
   "execution_count": 1,
   "metadata": {},
   "outputs": [],
   "source": [
    "import numpy as np\n",
    "from time import time\n",
    "import heapq"
   ]
  },
  {
   "cell_type": "markdown",
   "metadata": {},
   "source": [
    "# Pierres isotropic is optimal"
   ]
  },
  {
   "cell_type": "code",
   "execution_count": 2,
   "metadata": {},
   "outputs": [],
   "source": [
    "def to_binary_array(i, n):\n",
    "    # a binary array of length n representing i. For example if i=5 and n=5 this would return [0, 0, 1, 0, 1].\n",
    "    array = [int(d) for d in str(bin(i))[2:]]\n",
    "    if len(array) < n:\n",
    "        extra_zeros = [0 for _ in range(n-len(array))]\n",
    "        return extra_zeros + array\n",
    "    return array\n",
    "\n",
    "\n",
    "def set_and_sort(l):\n",
    "    # returns the unique elemenets of l in an ordered list (np.isclose is used to determine if elements are equal)\n",
    "    l = sorted(list(set(l)))\n",
    "    new_l = []\n",
    "    for i in range(len(l)-1):\n",
    "        if np.isclose(l[i], l[i+1]):\n",
    "            pass\n",
    "        else:\n",
    "            new_l.append(l[i])\n",
    "    new_l.append(l[-1])\n",
    "    return new_l"
   ]
  },
  {
   "cell_type": "code",
   "execution_count": 251,
   "metadata": {},
   "outputs": [
    {
     "name": "stdout",
     "output_type": "stream",
     "text": [
      "0\n",
      "0 0.00028133392333984375\n",
      "1\n",
      "1 0.0007824897766113281\n",
      "2\n",
      "2 0.004415988922119141\n",
      "3\n",
      "3 0.024610280990600586\n",
      "4\n",
      "4 0.13481473922729492\n",
      "5\n",
      "5 0.7258450984954834\n",
      "6\n",
      "6 4.396568059921265\n",
      "7\n",
      "7 33.83141779899597\n",
      "8\n",
      "8 225.94684743881226\n"
     ]
    }
   ],
   "source": [
    "for n in range(9): # length of the binary string input \n",
    "    print(n)\n",
    "    start = time()\n",
    "    for x_int in range(2**n): # the input graph\n",
    "        for delta_int in range(2**n): # the perturbation \n",
    "            x = np.array(to_binary_array(x_int, n))\n",
    "            delta = np.array(to_binary_array(delta_int, n))\n",
    "\n",
    "            # all possible zs in arrays\n",
    "            zs = []\n",
    "            for i in range(2**n):\n",
    "                zs.append(to_binary_array(i, n))\n",
    "            zs = np.array(zs)\n",
    "\n",
    "            # observed ratios \n",
    "            p = 0.05\n",
    "            ratios = []\n",
    "            for z in zs:\n",
    "                ratio = 1.0\n",
    "                for i in range(len(z)):\n",
    "                    if delta[i] == 1:\n",
    "                        if x[i] == z[i]:\n",
    "                            ratio = ratio * p/(1-p)\n",
    "                        else:\n",
    "                            ratio = ratio * (1-p)/p\n",
    "                ratios.append(ratio)\n",
    "            ratios = set_and_sort(ratios)\n",
    "\n",
    "            L = sum(delta==1) # size of the perturbation\n",
    "\n",
    "            # wang ratios \n",
    "            wang = []\n",
    "            for i in range(-L, L+1):\n",
    "                wang.append((p/(1-p))**i)\n",
    "            wang = set_and_sort(wang)\n",
    "\n",
    "            # pierre ratios\n",
    "            L = sum(delta==1)\n",
    "            pierre = []\n",
    "            for i in range(-L, L+1, 2):\n",
    "                pierre.append((p/(1-p))**i)\n",
    "            pierre = set_and_sort(pierre)\n",
    "\n",
    "            assert np.allclose(pierre, ratios) # pierres ratios are exactly the observed ratios, wang has redudndent regions.\n",
    "            \n",
    "    print(n, time() - start)"
   ]
  },
  {
   "cell_type": "markdown",
   "metadata": {},
   "source": [
    "# Gunnemann regions"
   ]
  },
  {
   "cell_type": "code",
   "execution_count": 27,
   "metadata": {},
   "outputs": [
    {
     "name": "stdout",
     "output_type": "stream",
     "text": [
      "x = [0 1 1 0 0 1 0 1 0 1]\n",
      "z = [0 1 1 1 1 1 1 1 0 0]\n",
      "C = [2 3 4 8 9]\n",
      "\n",
      "x_C = [1 0 0 0 1]\n",
      "z_C = [1 1 1 0 0]\n",
      "q = 2\n",
      "q_- =  1\n",
      "q_+ =  3\n",
      "q_- (just C) =  1\n",
      "q_+ (just C) =  2\n",
      "Ctilde = [0 1 5 6 7]\n",
      "q_- (just C tilde) =  0\n",
      "q_+ (just C tilde) =  1\n"
     ]
    }
   ],
   "source": [
    "import numpy as np\n",
    "\n",
    "np.random.seed(2)\n",
    "x = np.random.randint(0, 2, size=10)\n",
    "z = np.random.randint(0, 2, size=10)\n",
    "C = np.where(np.random.randint(0, 2, size=10))[0]\n",
    "\n",
    "def zero_norm(x):\n",
    "    return sum(x==0)\n",
    "\n",
    "print('x =', x)\n",
    "print('z =', z)\n",
    "print('C =', C)\n",
    "print()\n",
    "print('x_C =', x[C])\n",
    "print('z_C =', z[C])\n",
    "\n",
    "print('q =',zero_norm(x[C]-z[C]))\n",
    "print('q_- = ', np.sum(x - 1 == z))\n",
    "print('q_+ = ', np.sum(x + 1 == z))\n",
    "\n",
    "print('q_- (just C) = ', np.sum(x[C] - 1 == z[C]))\n",
    "print('q_+ (just C) = ', np.sum(x[C] + 1 == z[C]))\n",
    "\n",
    "Ctilde = np.array(sorted(list(set(np.arange(10)) - set(C))))\n",
    "print('Ctilde =', Ctilde)\n",
    "\n",
    "print('q_- (just C tilde) = ', np.sum(x[Ctilde] - 1 == z[Ctilde]))\n",
    "print('q_+ (just C tilde) = ', np.sum(x[Ctilde] + 1 == z[Ctilde]))"
   ]
  },
  {
   "cell_type": "code",
   "execution_count": 48,
   "metadata": {},
   "outputs": [],
   "source": [
    "import numpy as np\n",
    "\n",
    "np.random.seed(2)\n",
    "\n",
    "n = 10\n",
    "C = 2 # number of regions\n",
    "\n",
    "x = np.random.randint(0, 2, size=n)\n",
    "xtilde = np.random.randint(0, 2, size=n)\n",
    "z = np.random.randint(0, 2, size=n)\n",
    "regions = np.random.randint(0, C, size=n) #regions_i is the membership of x_i\n",
    "p = np.random.rand(C)"
   ]
  },
  {
   "cell_type": "code",
   "execution_count": 54,
   "metadata": {},
   "outputs": [],
   "source": [
    "def manual_calculation(x, xtilde, z, regions, p):\n",
    "    ratio = 1.0\n",
    "\n",
    "    for i in range(n):\n",
    "\n",
    "        # numerator\n",
    "        if x[i] == z[i]:\n",
    "            num = (1-p[regions[i]])\n",
    "        else:\n",
    "            num = p[regions[i]]\n",
    "\n",
    "        # denominator\n",
    "        if xtilde[i] == z[i]:\n",
    "            den = (1-p[regions[i]])\n",
    "        else:\n",
    "            den = p[regions[i]]\n",
    "\n",
    "        # update\n",
    "        ratio = ratio * num/den\n",
    "\n",
    "    return ratio\n",
    "\n",
    "def analytic_solution(x, xtilde, z, regions, p):\n",
    "    pass"
   ]
  },
  {
   "cell_type": "code",
   "execution_count": 59,
   "metadata": {},
   "outputs": [
    {
     "data": {
      "text/plain": [
       "4"
      ]
     },
     "execution_count": 59,
     "metadata": {},
     "output_type": "execute_result"
    }
   ],
   "source": [
    "q = np.sum(z == x)\n"
   ]
  },
  {
   "cell_type": "code",
   "execution_count": 62,
   "metadata": {},
   "outputs": [
    {
     "data": {
      "text/plain": [
       "array([False, False, False,  True,  True, False,  True, False, False,\n",
       "       False])"
      ]
     },
     "execution_count": 62,
     "metadata": {},
     "output_type": "execute_result"
    }
   ],
   "source": []
  },
  {
   "cell_type": "code",
   "execution_count": 33,
   "metadata": {},
   "outputs": [],
   "source": [
    "x = np.array([0, 1, 1, 0, 1, 0, 1, 0])\n",
    "regions = np.array([0, 0, 2, 1, 1, 1, 0, 2])\n",
    "p = (0.2, 0.3, 0.4)\n",
    "\n",
    "r_i = np.where(regions==0)[0]"
   ]
  },
  {
   "cell_type": "code",
   "execution_count": 34,
   "metadata": {},
   "outputs": [
    {
     "data": {
      "text/plain": [
       "array([0, 0, 3])"
      ]
     },
     "execution_count": 34,
     "metadata": {},
     "output_type": "execute_result"
    }
   ],
   "source": [
    "np.random.binomial(r_i, p[0], )"
   ]
  },
  {
   "cell_type": "code",
   "execution_count": 19,
   "metadata": {},
   "outputs": [
    {
     "name": "stdout",
     "output_type": "stream",
     "text": [
      "0 0.00025963783264160156\n",
      "1 0.001478433609008789\n",
      "2 0.005972385406494141\n",
      "3 0.03395509719848633\n",
      "4 0.12807154655456543\n"
     ]
    }
   ],
   "source": [
    "for n in range(5): # length of the binary string input \n",
    "    for x_int in range(2**n): # the input graph x\n",
    "        for delta_int in range(2**n): # the perturbation delta\n",
    "            x = np.array(to_binary_array(x_int, n))\n",
    "            delta = np.array(to_binary_array(delta_int, n))\n",
    "\n",
    "            # all possible zs in arrays\n",
    "            zs = []\n",
    "            for i in range(2**n):\n",
    "                zs.append(to_binary_array(i, n))\n",
    "            zs = np.array(zs)\n",
    "\n",
    "\n",
    "            \n",
    "\n",
    "            # observed ratios \n",
    "            p = 0.05\n",
    "            ratios = []\n",
    "            for z in zs:\n",
    "                ratio = 1.0\n",
    "                for i in range(len(z)):\n",
    "                    if delta[i] == 1:\n",
    "                        if x[i] == z[i]:\n",
    "                            ratio = ratio * p/(1-p)\n",
    "                        else:\n",
    "                            ratio = ratio * (1-p)/p\n",
    "                ratios.append(ratio)\n",
    "            ratios = set_and_sort(ratios)\n",
    "\n",
    "                L = sum(delta==1) # size of the perturbation\n",
    "\n",
    "                # wang ratios \n",
    "                wang = []\n",
    "                for i in range(-L, L+1):\n",
    "                    wang.append((p/(1-p))**i)\n",
    "                wang = set_and_sort(wang)\n",
    "\n",
    "                # pierre ratios\n",
    "                L = sum(delta==1)\n",
    "                pierre = []\n",
    "                for i in range(-L, L+1, 2):\n",
    "                    pierre.append((p/(1-p))**i)\n",
    "                pierre = set_and_sort(pierre)\n",
    "\n",
    "                assert np.allclose(pierre, ratios) # pierres ratios are exactly the observed ratios, wang has redudndent regions.\n",
    "                \n",
    "        print(time() - start)"
   ]
  },
  {
   "cell_type": "code",
   "execution_count": null,
   "metadata": {},
   "outputs": [],
   "source": []
  },
  {
   "cell_type": "markdown",
   "metadata": {},
   "source": [
    "# Sorting the alphas using heaps"
   ]
  },
  {
   "cell_type": "code",
   "execution_count": 7,
   "metadata": {},
   "outputs": [
    {
     "data": {
      "text/plain": [
       "{(0, 0): 0.0,\n",
       " (1, 0): 0.01,\n",
       " (2, 0): 0.02,\n",
       " (0, 1): 0.021,\n",
       " (3, 0): 0.03,\n",
       " (1, 1): 0.031,\n",
       " (4, 0): 0.04,\n",
       " (2, 1): 0.041,\n",
       " (0, 2): 0.042,\n",
       " (5, 0): 0.05,\n",
       " (3, 1): 0.051000000000000004,\n",
       " (1, 2): 0.052000000000000005,\n",
       " (6, 0): 0.06,\n",
       " (4, 1): 0.061,\n",
       " (2, 2): 0.062,\n",
       " (0, 3): 0.063,\n",
       " (7, 0): 0.07,\n",
       " (5, 1): 0.07100000000000001,\n",
       " (3, 2): 0.07200000000000001,\n",
       " (1, 3): 0.073,\n",
       " (8, 0): 0.08,\n",
       " (6, 1): 0.081,\n",
       " (4, 2): 0.082,\n",
       " (2, 3): 0.083,\n",
       " (0, 4): 0.084,\n",
       " (9, 0): 0.09,\n",
       " (7, 1): 0.09100000000000001,\n",
       " (5, 2): 0.092,\n",
       " (3, 3): 0.093,\n",
       " (1, 4): 0.094,\n",
       " (8, 1): 0.101,\n",
       " (6, 2): 0.10200000000000001,\n",
       " (4, 3): 0.10300000000000001,\n",
       " (2, 4): 0.10400000000000001,\n",
       " (0, 5): 0.10500000000000001,\n",
       " (9, 1): 0.111,\n",
       " (7, 2): 0.11200000000000002,\n",
       " (5, 3): 0.113,\n",
       " (3, 4): 0.114,\n",
       " (1, 5): 0.115,\n",
       " (8, 2): 0.122,\n",
       " (6, 3): 0.123,\n",
       " (4, 4): 0.124,\n",
       " (2, 5): 0.125,\n",
       " (0, 6): 0.126,\n",
       " (7, 3): 0.133,\n",
       " (5, 4): 0.134,\n",
       " (3, 5): 0.135,\n",
       " (1, 6): 0.136,\n",
       " (6, 4): 0.14400000000000002,\n",
       " (4, 5): 0.14500000000000002,\n",
       " (2, 6): 0.146,\n",
       " (0, 7): 0.14700000000000002,\n",
       " (5, 5): 0.15500000000000003,\n",
       " (3, 6): 0.156,\n",
       " (1, 7): 0.15700000000000003,\n",
       " (4, 6): 0.166,\n",
       " (2, 7): 0.167,\n",
       " (0, 8): 0.168,\n",
       " (3, 7): 0.17700000000000002,\n",
       " (1, 8): 0.17800000000000002,\n",
       " (2, 8): 0.188,\n",
       " (0, 9): 0.189,\n",
       " (1, 9): 0.199}"
      ]
     },
     "execution_count": 7,
     "metadata": {},
     "output_type": "execute_result"
    }
   ],
   "source": [
    "p = 0.01, 0.021\n",
    "sols = {}\n",
    "for i in range(10):\n",
    "    for j in range(10):\n",
    "        if i + j > 10:\n",
    "            continue\n",
    "        else:\n",
    "            key = (i, j)\n",
    "            vals = p[0]*i + p[1]*j\n",
    "            sols[key] = vals\n",
    "sols = sort_dict(sols)t\n",
    "sols"
   ]
  },
  {
   "cell_type": "code",
   "execution_count": 8,
   "metadata": {},
   "outputs": [],
   "source": [
    "p = (0.01, 0.015, 0.03, 0.07)"
   ]
  },
  {
   "cell_type": "code",
   "execution_count": 9,
   "metadata": {},
   "outputs": [],
   "source": [
    "sols = {}\n",
    "for i in range(10):\n",
    "    for j in range(10):\n",
    "        for k in range(10):\n",
    "            for l in range(10):\n",
    "                if i + j + l + k > 10:\n",
    "                    continue\n",
    "                else:\n",
    "                    key = (i, j, k, l)\n",
    "                    val = p[0]*i + p[1]*j + p[2]*k + p[3]*l\n",
    "                    sols[key] = val"
   ]
  },
  {
   "cell_type": "code",
   "execution_count": 10,
   "metadata": {},
   "outputs": [],
   "source": [
    "def sort_dict(x):\n",
    "    return {k: v for k, v in sorted(x.items(), key=lambda item: item[1])}"
   ]
  },
  {
   "cell_type": "code",
   "execution_count": 11,
   "metadata": {},
   "outputs": [
    {
     "data": {
      "text/plain": [
       "997"
      ]
     },
     "execution_count": 11,
     "metadata": {},
     "output_type": "execute_result"
    }
   ],
   "source": [
    "sols = sort_dict(sols)\n",
    "sols\n",
    "len(sols)"
   ]
  },
  {
   "cell_type": "code",
   "execution_count": 5,
   "metadata": {},
   "outputs": [],
   "source": [
    "d = 4\n",
    "p = (0.01, 0.015, 0.03, 0.07)"
   ]
  },
  {
   "cell_type": "code",
   "execution_count": 6,
   "metadata": {},
   "outputs": [
    {
     "ename": "NameError",
     "evalue": "name 'heapq' is not defined",
     "output_type": "error",
     "traceback": [
      "\u001b[0;31m---------------------------------------------------------------------------\u001b[0m",
      "\u001b[0;31mNameError\u001b[0m                                 Traceback (most recent call last)",
      "\u001b[1;32m/data/kenlay/cert/communityaware/notebooks/pierre.ipynb Cell 22'\u001b[0m in \u001b[0;36m<cell line: 3>\u001b[0;34m()\u001b[0m\n\u001b[1;32m      <a href='vscode-notebook-cell://ssh-remote%2Baimscdt1/data/kenlay/cert/communityaware/notebooks/pierre.ipynb#ch0000021vscode-remote?line=1'>2</a>\u001b[0m seen \u001b[39m=\u001b[39m \u001b[39mset\u001b[39m((\u001b[39m0\u001b[39m, \u001b[39m0\u001b[39m, \u001b[39m0\u001b[39m, \u001b[39m0\u001b[39m))\n\u001b[1;32m      <a href='vscode-notebook-cell://ssh-remote%2Baimscdt1/data/kenlay/cert/communityaware/notebooks/pierre.ipynb#ch0000021vscode-remote?line=2'>3</a>\u001b[0m \u001b[39mfor\u001b[39;00m i \u001b[39min\u001b[39;00m \u001b[39mrange\u001b[39m(\u001b[39m10\u001b[39m):\n\u001b[1;32m      <a href='vscode-notebook-cell://ssh-remote%2Baimscdt1/data/kenlay/cert/communityaware/notebooks/pierre.ipynb#ch0000021vscode-remote?line=3'>4</a>\u001b[0m     \u001b[39m# retrieve best item\u001b[39;00m\n\u001b[0;32m----> <a href='vscode-notebook-cell://ssh-remote%2Baimscdt1/data/kenlay/cert/communityaware/notebooks/pierre.ipynb#ch0000021vscode-remote?line=4'>5</a>\u001b[0m     next_item \u001b[39m=\u001b[39m heapq\u001b[39m.\u001b[39mheappop(heap)\n\u001b[1;32m      <a href='vscode-notebook-cell://ssh-remote%2Baimscdt1/data/kenlay/cert/communityaware/notebooks/pierre.ipynb#ch0000021vscode-remote?line=5'>6</a>\u001b[0m     next_item_tuple \u001b[39m=\u001b[39m next_item[\u001b[39m1\u001b[39m]\n\u001b[1;32m      <a href='vscode-notebook-cell://ssh-remote%2Baimscdt1/data/kenlay/cert/communityaware/notebooks/pierre.ipynb#ch0000021vscode-remote?line=7'>8</a>\u001b[0m     \u001b[39m# generate new candidates\u001b[39;00m\n",
      "\u001b[0;31mNameError\u001b[0m: name 'heapq' is not defined"
     ]
    }
   ],
   "source": [
    "heap = [(0, tuple([0 for _ in range(d)]))] # create heap\n",
    "seen = set((0, 0, 0, 0))\n",
    "for i in range(10):\n",
    "    # retrieve best item\n",
    "    next_item = heapq.heappop(heap)\n",
    "    next_item_tuple = next_item[1]\n",
    "\n",
    "    # generate new candidates\n",
    "    for j in range(d):\n",
    "        pass\n",
    "        candidate = next_item_tuple[:j] + (next_item_tuple[j]+1,) + next_item_tuple[j+1:]\n",
    "        if candidate not in seen:\n",
    "            value = np.inner(candidate, p)\n",
    "            heapq.heappush(heap, (value, candidate))\n",
    "            seen.add(candidate)"
   ]
  },
  {
   "cell_type": "code",
   "execution_count": null,
   "metadata": {},
   "outputs": [],
   "source": []
  },
  {
   "cell_type": "code",
   "execution_count": 316,
   "metadata": {},
   "outputs": [],
   "source": [
    "def yield_likelihood_ratios(p):\n",
    "    d = len(p)\n",
    "    heap = [(0, tuple([0 for _ in range(d)]))] # create heap\n",
    "    seen = set((0, 0, 0, 0))\n",
    "    while True:\n",
    "        # retrieve best item\n",
    "        next_item = heapq.heappop(heap)\n",
    "        next_item_tuple = next_item[1]\n",
    "        yield next_item\n",
    "\n",
    "        # generate new candidates\n",
    "        for j in range(d):\n",
    "            pass\n",
    "            candidate = next_item_tuple[:j] + (next_item_tuple[j]+1,) + next_item_tuple[j+1:]\n",
    "            if candidate not in seen:\n",
    "                value = np.inner(candidate, p)\n",
    "                heapq.heappush(heap, (value, candidate))\n",
    "                seen.add(candidate)"
   ]
  },
  {
   "cell_type": "code",
   "execution_count": 318,
   "metadata": {},
   "outputs": [
    {
     "name": "stdout",
     "output_type": "stream",
     "text": [
      "(0, (0, 0, 0, 0))\n",
      "(0.01, (1, 0, 0, 0))\n",
      "(0.015, (0, 1, 0, 0))\n",
      "(0.02, (2, 0, 0, 0))\n",
      "(0.025, (1, 1, 0, 0))\n",
      "(0.03, (0, 0, 1, 0))\n",
      "(0.03, (0, 2, 0, 0))\n",
      "(0.03, (3, 0, 0, 0))\n",
      "(0.035, (2, 1, 0, 0))\n",
      "(0.04, (1, 0, 1, 0))\n",
      "(0.04, (1, 2, 0, 0))\n",
      "(0.04, (4, 0, 0, 0))\n",
      "(0.045, (0, 1, 1, 0))\n",
      "(0.045, (0, 3, 0, 0))\n",
      "(0.045, (3, 1, 0, 0))\n",
      "(0.05, (2, 0, 1, 0))\n",
      "(0.05, (2, 2, 0, 0))\n"
     ]
    }
   ],
   "source": [
    "total_p = 0.0\n",
    "for region in yield_likelihood_ratios(p):\n",
    "    total_p += region[0]\n",
    "    print(region)\n",
    "    if total_p > 0.5:\n",
    "        break"
   ]
  },
  {
   "cell_type": "code",
   "execution_count": null,
   "metadata": {},
   "outputs": [],
   "source": []
  },
  {
   "cell_type": "code",
   "execution_count": null,
   "metadata": {},
   "outputs": [],
   "source": []
  }
 ],
 "metadata": {
  "interpreter": {
   "hash": "d65551de787edf5c8148b81248acedb88d24ef64c2feeaf5a7c8f1aae967c178"
  },
  "kernelspec": {
   "display_name": "Python 3.7.11 ('cert')",
   "language": "python",
   "name": "python3"
  },
  "language_info": {
   "codemirror_mode": {
    "name": "ipython",
    "version": 3
   },
   "file_extension": ".py",
   "mimetype": "text/x-python",
   "name": "python",
   "nbconvert_exporter": "python",
   "pygments_lexer": "ipython3",
   "version": "3.9.12"
  },
  "orig_nbformat": 4
 },
 "nbformat": 4,
 "nbformat_minor": 2
}
