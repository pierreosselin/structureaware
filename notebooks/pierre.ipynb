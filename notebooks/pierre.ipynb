{
 "cells": [
  {
   "cell_type": "code",
   "execution_count": 249,
   "metadata": {},
   "outputs": [],
   "source": [
    "import numpy as np\n",
    "from time import time\n",
    "import heapq\n"
   ]
  },
  {
   "cell_type": "markdown",
   "metadata": {},
   "source": [
    "# Pierres isotropic is optimal"
   ]
  },
  {
   "cell_type": "code",
   "execution_count": 242,
   "metadata": {},
   "outputs": [],
   "source": [
    "def to_binary_array(i, n):\n",
    "    # a binary array of length n representing i. For example if i=5 and n=5 this would return [0, 0, 1, 0, 1].\n",
    "    array = [int(d) for d in str(bin(i))[2:]]\n",
    "    if len(array) < n:\n",
    "        extra_zeros = [0 for _ in range(n-len(array))]\n",
    "        return extra_zeros + array\n",
    "    return array\n",
    "\n",
    "\n",
    "def set_and_sort(l):\n",
    "    # returns the unique elemenets of l in an ordered list (np.isclose is used to determine if elements are equal)\n",
    "    l = sorted(list(set(l)))\n",
    "    new_l = []\n",
    "    for i in range(len(l)-1):\n",
    "        if np.isclose(l[i], l[i+1]):\n",
    "            pass\n",
    "        else:\n",
    "            new_l.append(l[i])\n",
    "    new_l.append(l[-1])\n",
    "    return new_l"
   ]
  },
  {
   "cell_type": "code",
   "execution_count": 251,
   "metadata": {},
   "outputs": [
    {
     "name": "stdout",
     "output_type": "stream",
     "text": [
      "0\n",
      "0 0.00028133392333984375\n",
      "1\n",
      "1 0.0007824897766113281\n",
      "2\n",
      "2 0.004415988922119141\n",
      "3\n",
      "3 0.024610280990600586\n",
      "4\n",
      "4 0.13481473922729492\n",
      "5\n",
      "5 0.7258450984954834\n",
      "6\n",
      "6 4.396568059921265\n",
      "7\n",
      "7 33.83141779899597\n",
      "8\n",
      "8 225.94684743881226\n"
     ]
    }
   ],
   "source": [
    "for n in range(9): # length of the input \n",
    "    print(n)\n",
    "    start = time()\n",
    "    for x_int in range(2**n): # the input graph\n",
    "        for delta_int in range(2**n): # the perturbation \n",
    "            x = np.array(to_binary_array(x_int, n))\n",
    "            delta = np.array(to_binary_array(delta_int, n))\n",
    "\n",
    "            # all possible zs in arrays\n",
    "            zs = []\n",
    "            for i in range(2**n):\n",
    "                zs.append(to_binary_array(i, n))\n",
    "            zs = np.array(zs)\n",
    "\n",
    "            # ratios calculated using Eq. 9 in my document (decomposed into 4 products)\n",
    "            p = 0.05\n",
    "            ratios = []\n",
    "            for z in zs:\n",
    "                ratio = 1.0\n",
    "                for i in range(len(z)):\n",
    "                    if delta[i] == 1:\n",
    "                        if x[i] == z[i]:\n",
    "                            ratio = ratio * p/(1-p)\n",
    "                        else:\n",
    "                            ratio = ratio * (1-p)/p\n",
    "                ratios.append(ratio)\n",
    "            ratios = set_and_sort(ratios)\n",
    "\n",
    "            L = sum(delta==1) # size of the perturbation\n",
    "\n",
    "            # wang ratios \n",
    "            wang = []\n",
    "            for i in range(-L, L+1):\n",
    "                wang.append((p/(1-p))**i)\n",
    "            wang = set_and_sort(wang)\n",
    "\n",
    "            # pierre ratios\n",
    "            L = sum(delta==1)\n",
    "            pierre = []\n",
    "            for i in range(-L, L+1, 2):\n",
    "                pierre.append((p/(1-p))**i)\n",
    "            pierre = set_and_sort(pierre)\n",
    "\n",
    "            assert np.allclose(pierre, ratios) # pierres ratios are exactly the observed ratios \n",
    "            \n",
    "    print(n, time() - start)"
   ]
  },
  {
   "cell_type": "markdown",
   "metadata": {},
   "source": [
    "# Sorting the alphas"
   ]
  },
  {
   "cell_type": "code",
   "execution_count": 259,
   "metadata": {},
   "outputs": [
    {
     "data": {
      "text/plain": [
       "{(0, 0): 0.0,\n",
       " (1, 0): 0.01,\n",
       " (2, 0): 0.02,\n",
       " (0, 1): 0.021,\n",
       " (3, 0): 0.03,\n",
       " (1, 1): 0.031,\n",
       " (4, 0): 0.04,\n",
       " (2, 1): 0.041,\n",
       " (0, 2): 0.042,\n",
       " (5, 0): 0.05,\n",
       " (3, 1): 0.051000000000000004,\n",
       " (1, 2): 0.052000000000000005,\n",
       " (6, 0): 0.06,\n",
       " (4, 1): 0.061,\n",
       " (2, 2): 0.062,\n",
       " (0, 3): 0.063,\n",
       " (7, 0): 0.07,\n",
       " (5, 1): 0.07100000000000001,\n",
       " (3, 2): 0.07200000000000001,\n",
       " (1, 3): 0.073,\n",
       " (8, 0): 0.08,\n",
       " (6, 1): 0.081,\n",
       " (4, 2): 0.082,\n",
       " (2, 3): 0.083,\n",
       " (0, 4): 0.084,\n",
       " (9, 0): 0.09,\n",
       " (7, 1): 0.09100000000000001,\n",
       " (5, 2): 0.092,\n",
       " (3, 3): 0.093,\n",
       " (1, 4): 0.094,\n",
       " (8, 1): 0.101,\n",
       " (6, 2): 0.10200000000000001,\n",
       " (4, 3): 0.10300000000000001,\n",
       " (2, 4): 0.10400000000000001,\n",
       " (0, 5): 0.10500000000000001,\n",
       " (9, 1): 0.111,\n",
       " (7, 2): 0.11200000000000002,\n",
       " (5, 3): 0.113,\n",
       " (3, 4): 0.114,\n",
       " (1, 5): 0.115,\n",
       " (8, 2): 0.122,\n",
       " (6, 3): 0.123,\n",
       " (4, 4): 0.124,\n",
       " (2, 5): 0.125,\n",
       " (0, 6): 0.126,\n",
       " (7, 3): 0.133,\n",
       " (5, 4): 0.134,\n",
       " (3, 5): 0.135,\n",
       " (1, 6): 0.136,\n",
       " (6, 4): 0.14400000000000002,\n",
       " (4, 5): 0.14500000000000002,\n",
       " (2, 6): 0.146,\n",
       " (0, 7): 0.14700000000000002,\n",
       " (5, 5): 0.15500000000000003,\n",
       " (3, 6): 0.156,\n",
       " (1, 7): 0.15700000000000003,\n",
       " (4, 6): 0.166,\n",
       " (2, 7): 0.167,\n",
       " (0, 8): 0.168,\n",
       " (3, 7): 0.17700000000000002,\n",
       " (1, 8): 0.17800000000000002,\n",
       " (2, 8): 0.188,\n",
       " (0, 9): 0.189,\n",
       " (1, 9): 0.199}"
      ]
     },
     "execution_count": 259,
     "metadata": {},
     "output_type": "execute_result"
    }
   ],
   "source": [
    "p = 0.01, 0.021\n",
    "sols = {}\n",
    "for i in range(10):\n",
    "    for j in range(10):\n",
    "        if i + j > 10:\n",
    "            continue\n",
    "        else:\n",
    "            key = (i, j)\n",
    "            vals = p[0]*i + p[1]*j\n",
    "            sols[key] = vals\n",
    "sols = sort_dict(sols)\n",
    "sols"
   ]
  },
  {
   "cell_type": "code",
   "execution_count": 252,
   "metadata": {},
   "outputs": [],
   "source": [
    "p = (0.01, 0.015, 0.03, 0.07)"
   ]
  },
  {
   "cell_type": "code",
   "execution_count": 253,
   "metadata": {},
   "outputs": [],
   "source": [
    "sols = {}\n",
    "for i in range(10):\n",
    "    for j in range(10):\n",
    "        for k in range(10):\n",
    "            for l in range(10):\n",
    "                if i + j + l + k > 10:\n",
    "                    continue\n",
    "                else:\n",
    "                    key = (i, j, k, l)\n",
    "                    val = p[0]*i + p[1]*j + p[2]*k + p[3]*l\n",
    "                    sols[key] = val"
   ]
  },
  {
   "cell_type": "code",
   "execution_count": 255,
   "metadata": {},
   "outputs": [],
   "source": [
    "def sort_dict(x):\n",
    "    return {k: v for k, v in sorted(x.items(), key=lambda item: item[1])}"
   ]
  },
  {
   "cell_type": "code",
   "execution_count": 319,
   "metadata": {},
   "outputs": [
    {
     "data": {
      "text/plain": [
       "64"
      ]
     },
     "execution_count": 319,
     "metadata": {},
     "output_type": "execute_result"
    }
   ],
   "source": [
    "sols = sort_dict(sols)\n",
    "sols\n",
    "len(sols)"
   ]
  },
  {
   "cell_type": "code",
   "execution_count": 264,
   "metadata": {},
   "outputs": [],
   "source": [
    "d = 4\n",
    "p = (0.01, 0.015, 0.03, 0.07)"
   ]
  },
  {
   "cell_type": "code",
   "execution_count": 315,
   "metadata": {},
   "outputs": [],
   "source": [
    "heap = [(0, tuple([0 for _ in range(d)]))] # create heap\n",
    "seen = set((0, 0, 0, 0))\n",
    "for i in range(10):\n",
    "    # retrieve best item\n",
    "    next_item = heapq.heappop(heap)\n",
    "    next_item_tuple = next_item[1]\n",
    "\n",
    "    # generate new candidates\n",
    "    for j in range(d):\n",
    "        pass\n",
    "        candidate = next_item_tuple[:j] + (next_item_tuple[j]+1,) + next_item_tuple[j+1:]\n",
    "        if candidate not in seen:\n",
    "            value = np.inner(candidate, p)\n",
    "            heapq.heappush(heap, (value, candidate))\n",
    "            seen.add(candidate)"
   ]
  },
  {
   "cell_type": "code",
   "execution_count": null,
   "metadata": {},
   "outputs": [],
   "source": []
  },
  {
   "cell_type": "code",
   "execution_count": 316,
   "metadata": {},
   "outputs": [],
   "source": [
    "def yield_likelihood_ratios(p):\n",
    "    d = len(p)\n",
    "    heap = [(0, tuple([0 for _ in range(d)]))] # create heap\n",
    "    seen = set((0, 0, 0, 0))\n",
    "    while True:\n",
    "        # retrieve best item\n",
    "        next_item = heapq.heappop(heap)\n",
    "        next_item_tuple = next_item[1]\n",
    "        yield next_item\n",
    "\n",
    "        # generate new candidates\n",
    "        for j in range(d):\n",
    "            pass\n",
    "            candidate = next_item_tuple[:j] + (next_item_tuple[j]+1,) + next_item_tuple[j+1:]\n",
    "            if candidate not in seen:\n",
    "                value = np.inner(candidate, p)\n",
    "                heapq.heappush(heap, (value, candidate))\n",
    "                seen.add(candidate)"
   ]
  },
  {
   "cell_type": "code",
   "execution_count": 318,
   "metadata": {},
   "outputs": [
    {
     "name": "stdout",
     "output_type": "stream",
     "text": [
      "(0, (0, 0, 0, 0))\n",
      "(0.01, (1, 0, 0, 0))\n",
      "(0.015, (0, 1, 0, 0))\n",
      "(0.02, (2, 0, 0, 0))\n",
      "(0.025, (1, 1, 0, 0))\n",
      "(0.03, (0, 0, 1, 0))\n",
      "(0.03, (0, 2, 0, 0))\n",
      "(0.03, (3, 0, 0, 0))\n",
      "(0.035, (2, 1, 0, 0))\n",
      "(0.04, (1, 0, 1, 0))\n",
      "(0.04, (1, 2, 0, 0))\n",
      "(0.04, (4, 0, 0, 0))\n",
      "(0.045, (0, 1, 1, 0))\n",
      "(0.045, (0, 3, 0, 0))\n",
      "(0.045, (3, 1, 0, 0))\n",
      "(0.05, (2, 0, 1, 0))\n",
      "(0.05, (2, 2, 0, 0))\n"
     ]
    }
   ],
   "source": [
    "total_p = 0.0\n",
    "for region in yield_likelihood_ratios(p):\n",
    "    total_p += region[0]\n",
    "    print(region)\n",
    "    if total_p > 0.5:\n",
    "        break"
   ]
  },
  {
   "cell_type": "code",
   "execution_count": null,
   "metadata": {},
   "outputs": [],
   "source": []
  },
  {
   "cell_type": "code",
   "execution_count": null,
   "metadata": {},
   "outputs": [],
   "source": []
  }
 ],
 "metadata": {
  "interpreter": {
   "hash": "d65551de787edf5c8148b81248acedb88d24ef64c2feeaf5a7c8f1aae967c178"
  },
  "kernelspec": {
   "display_name": "Python 3.7.11 ('cert')",
   "language": "python",
   "name": "python3"
  },
  "language_info": {
   "codemirror_mode": {
    "name": "ipython",
    "version": 3
   },
   "file_extension": ".py",
   "mimetype": "text/x-python",
   "name": "python",
   "nbconvert_exporter": "python",
   "pygments_lexer": "ipython3",
   "version": "3.7.11"
  },
  "orig_nbformat": 4
 },
 "nbformat": 4,
 "nbformat_minor": 2
}
