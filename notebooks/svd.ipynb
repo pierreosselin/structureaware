{
 "cells": [
  {
   "cell_type": "code",
   "execution_count": 12,
   "metadata": {},
   "outputs": [],
   "source": [
    "import networkx as nx\n",
    "import numpy as np\n",
    "import matplotlib.pyplot as plt"
   ]
  },
  {
   "cell_type": "code",
   "execution_count": 17,
   "metadata": {},
   "outputs": [],
   "source": [
    "def truncated_svd(A, rank):\n",
    "    U, S, V = np.linalg.svd(A)\n",
    "    U = U[:, :rank]\n",
    "    S = np.diag(S[:rank])\n",
    "    V = V[:rank, :]\n",
    "    approximation = U @ S @ V\n",
    "    assert np.linalg.matrix_rank(approximation) == rank\n",
    "    return approximation"
   ]
  },
  {
   "cell_type": "code",
   "execution_count": 18,
   "metadata": {},
   "outputs": [
    {
     "name": "stderr",
     "output_type": "stream",
     "text": [
      "/tmp/ipykernel_31292/2721976763.py:2: FutureWarning: adjacency_matrix will return a scipy.sparse array instead of a matrix in Networkx 3.0.\n",
      "  A = np.array(nx.adjacency_matrix(graph).todense())\n"
     ]
    }
   ],
   "source": [
    "graph = nx.barabasi_albert_graph(20, 2)\n",
    "A = np.array(nx.adjacency_matrix(graph).todense())"
   ]
  },
  {
   "cell_type": "code",
   "execution_count": 35,
   "metadata": {},
   "outputs": [
    {
     "data": {
      "text/plain": [
       "<matplotlib.image.AxesImage at 0x7fd9ca8b1970>"
      ]
     },
     "execution_count": 35,
     "metadata": {},
     "output_type": "execute_result"
    },
    {
     "data": {
      "image/png": "[encoded data removed]",
      "text/plain": [
       "<Figure size 1080x360 with 3 Axes>"
      ]
     },
     "metadata": {
      "needs_background": "light"
     },
     "output_type": "display_data"
    }
   ],
   "source": [
    "fig, ax = plt.subplots(1, 3, figsize=(15, 5))\n",
    "ax[0].imshow(A)\n",
    "ax[1].imshow(truncated_svd(A, 10))\n",
    "ax[2].imshow(truncated_svd(A, 10) > np.quantile(truncated_svd(A, 10).flatten(), 0.9))"
   ]
  },
  {
   "cell_type": "code",
   "execution_count": 39,
   "metadata": {},
   "outputs": [
    {
     "data": {
      "text/plain": [
       "array([[0.01348994, 0.00457113, 0.00801941, 0.06635123, 0.00756599,\n",
       "        0.01808513, 0.00535422, 0.06531724, 0.01169938, 0.00447657,\n",
       "        0.01295578, 0.00820124, 0.0291211 , 0.0693632 , 0.05710976,\n",
       "        0.04172823, 0.01615608, 0.00770555, 0.00607907, 0.05109319],\n",
       "       [0.00457113, 0.11650341, 0.01564073, 0.00489284, 0.07389184,\n",
       "        0.15810516, 0.07752907, 0.08318241, 0.02107086, 0.07487573,\n",
       "        0.00210484, 0.01813004, 0.01194436, 0.09244042, 0.09030155,\n",
       "        0.00860538, 0.00139575, 0.04185448, 0.14750063, 0.12606352],\n",
       "       [0.00801941, 0.01564073, 0.03127827, 0.02421221, 0.03259948,\n",
       "        0.0105538 , 0.13953651, 0.01960749, 0.01614283, 0.04469373,\n",
       "        0.05364874, 0.07846038, 0.06919087, 0.06415218, 0.09537446,\n",
       "        0.03352956, 0.0070569 , 0.02591036, 0.03480945, 0.00075958],\n",
       "       [0.06635123, 0.00489284, 0.02421221, 0.08455991, 0.041294  ,\n",
       "        0.02139814, 0.06363774, 0.04291009, 0.02245964, 0.2585757 ,\n",
       "        0.04329045, 0.08953535, 0.0381128 , 0.07278954, 0.21463386,\n",
       "        0.03103909, 0.23159266, 0.05504026, 0.00735645, 0.00990756],\n",
       "       [0.00756599, 0.07389184, 0.03259948, 0.041294  , 0.00343341,\n",
       "        0.03637557, 0.10216747, 0.0329961 , 0.17048624, 0.02904856,\n",
       "        0.13659182, 0.11605026, 0.09785138, 0.11391968, 0.17557678,\n",
       "        0.02908611, 0.02791089, 0.00270388, 0.04195761, 0.03201065],\n",
       "       [0.01808513, 0.15810516, 0.0105538 , 0.02139814, 0.03637557,\n",
       "        0.14425129, 0.15148328, 0.03902403, 0.00899466, 0.08700021,\n",
       "        0.02610756, 0.01214699, 0.13126085, 0.04422958, 0.24866219,\n",
       "        0.06225993, 0.00575005, 0.10033582, 0.31159886, 0.14066198],\n",
       "       [0.00535422, 0.07752907, 0.13953651, 0.06363774, 0.10216747,\n",
       "        0.15148328, 0.09864956, 0.12819512, 0.04928925, 0.00687128,\n",
       "        0.00452768, 0.51623334, 0.2207718 , 0.09422999, 0.11690427,\n",
       "        0.12838985, 0.07005355, 0.12979528, 0.07239247, 0.07742447],\n",
       "       [0.06531724, 0.08318241, 0.01960749, 0.04291009, 0.0329961 ,\n",
       "        0.03902403, 0.12819512, 0.10641605, 0.09634515, 0.21637395,\n",
       "        0.11103065, 0.13825489, 0.11000699, 0.06855397, 0.52414758,\n",
       "        0.00473514, 0.16856856, 0.11621569, 0.11847829, 0.03395137],\n",
       "       [0.01169938, 0.02107086, 0.01614283, 0.02245964, 0.17048624,\n",
       "        0.00899466, 0.04928925, 0.09634515, 0.01972929, 0.03100448,\n",
       "        0.04480334, 0.22399811, 0.23235847, 0.0375248 , 0.08266911,\n",
       "        0.04356697, 0.05421095, 0.01851385, 0.09861083, 0.11728331],\n",
       "       [0.00447657, 0.07487573, 0.04469373, 0.2585757 , 0.02904856,\n",
       "        0.08700021, 0.00687128, 0.21637395, 0.03100448, 0.12844013,\n",
       "        0.04486794, 0.2144324 , 0.06920386, 0.30181666, 0.00413612,\n",
       "        0.06226401, 0.14692534, 0.11137474, 0.17489914, 0.07681643],\n",
       "       [0.01295578, 0.00210484, 0.05364874, 0.04329045, 0.13659182,\n",
       "        0.02610756, 0.00452768, 0.11103065, 0.04480334, 0.04486794,\n",
       "        0.00989649, 0.11319032, 0.33406458, 0.06791242, 0.13619058,\n",
       "        0.06478241, 0.06736926, 0.00695799, 0.02726053, 0.04182504],\n",
       "       [0.00820124, 0.01813004, 0.07846038, 0.08953535, 0.11605026,\n",
       "        0.01214699, 0.51623334, 0.13825489, 0.22399811, 0.2144324 ,\n",
       "        0.11319032, 0.0664139 , 0.10634832, 0.01436124, 0.18752931,\n",
       "        0.13862574, 0.07693156, 0.08638875, 0.00479861, 0.03940462],\n",
       "       [0.0291211 , 0.01194436, 0.06919087, 0.0381128 , 0.09785138,\n",
       "        0.13126085, 0.2207718 , 0.11000699, 0.23235847, 0.06920386,\n",
       "        0.33406458, 0.10634832, 0.12965926, 0.00519703, 0.24995462,\n",
       "        0.06117369, 0.1020722 , 0.06705969, 0.1330842 , 0.1049038 ],\n",
       "       [0.0693632 , 0.09244042, 0.06415218, 0.07278954, 0.11391968,\n",
       "        0.04422958, 0.09422999, 0.06855397, 0.0375248 , 0.30181666,\n",
       "        0.06791242, 0.01436124, 0.00519703, 0.11608973, 0.07464798,\n",
       "        0.04215489, 0.26604293, 0.0539429 , 0.13143662, 0.02028592],\n",
       "       [0.05710976, 0.09030155, 0.09537446, 0.21463386, 0.17557678,\n",
       "        0.24866219, 0.11690427, 0.52414758, 0.08266911, 0.00413612,\n",
       "        0.13619058, 0.18752931, 0.24995462, 0.07464798, 0.07155209,\n",
       "        0.0079448 , 0.09444145, 0.01067594, 0.10546671, 0.13390119],\n",
       "       [0.04172823, 0.00860538, 0.03352956, 0.03103909, 0.02908611,\n",
       "        0.06225993, 0.12838985, 0.00473514, 0.04356697, 0.06226401,\n",
       "        0.06478241, 0.13862574, 0.06117369, 0.04215489, 0.0079448 ,\n",
       "        0.03167724, 0.08046881, 0.05985944, 0.06292138, 0.01827863],\n",
       "       [0.01615608, 0.00139575, 0.0070569 , 0.23159266, 0.02791089,\n",
       "        0.00575005, 0.07005355, 0.16856856, 0.05421095, 0.14692534,\n",
       "        0.06736926, 0.07693156, 0.1020722 , 0.26604293, 0.09444145,\n",
       "        0.08046881, 0.16368642, 0.01756892, 0.04865297, 0.02725639],\n",
       "       [0.00770555, 0.04185448, 0.02591036, 0.05504026, 0.00270388,\n",
       "        0.10033582, 0.12979528, 0.11621569, 0.01851385, 0.11137474,\n",
       "        0.00695799, 0.08638875, 0.06705969, 0.0539429 , 0.01067594,\n",
       "        0.05985944, 0.01756892, 0.0288495 , 0.02887096, 0.12053792],\n",
       "       [0.00607907, 0.14750063, 0.03480945, 0.00735645, 0.04195761,\n",
       "        0.31159886, 0.07239247, 0.11847829, 0.09861083, 0.17489914,\n",
       "        0.02726053, 0.00479861, 0.1330842 , 0.13143662, 0.10546671,\n",
       "        0.06292138, 0.04865297, 0.02887096, 0.08564087, 0.18415714],\n",
       "       [0.05109319, 0.12606352, 0.00075958, 0.00990756, 0.03201065,\n",
       "        0.14066198, 0.07742447, 0.03395137, 0.11728331, 0.07681643,\n",
       "        0.04182504, 0.03940462, 0.1049038 , 0.02028592, 0.13390119,\n",
       "        0.01827863, 0.02725639, 0.12053792, 0.18415714, 0.16962726]])"
      ]
     },
     "execution_count": 39,
     "metadata": {},
     "output_type": "execute_result"
    }
   ],
   "source": []
  },
  {
   "cell_type": "code",
   "execution_count": 61,
   "metadata": {},
   "outputs": [
    {
     "data": {
      "text/plain": [
       "True"
      ]
     },
     "execution_count": 61,
     "metadata": {},
     "output_type": "execute_result"
    }
   ],
   "source": [
    "np.allclose(truncated, truncated.T)"
   ]
  },
  {
   "cell_type": "code",
   "execution_count": 64,
   "metadata": {},
   "outputs": [
    {
     "data": {
      "text/plain": [
       "5.177935384438678"
      ]
     },
     "execution_count": 64,
     "metadata": {},
     "output_type": "execute_result"
    }
   ],
   "source": [
    "np.linalg.eigvalsh(adjacency).max()"
   ]
  },
  {
   "cell_type": "code",
   "execution_count": null,
   "metadata": {},
   "outputs": [],
   "source": []
  }
 ],
 "metadata": {
  "interpreter": {
   "hash": "d65551de787edf5c8148b81248acedb88d24ef64c2feeaf5a7c8f1aae967c178"
  },
  "kernelspec": {
   "display_name": "Python 3.9.12 ('cert')",
   "language": "python",
   "name": "python3"
  },
  "language_info": {
   "codemirror_mode": {
    "name": "ipython",
    "version": 3
   },
   "file_extension": ".py",
   "mimetype": "text/x-python",
   "name": "python",
   "nbconvert_exporter": "python",
   "pygments_lexer": "ipython3",
   "version": "3.9.12"
  },
  "orig_nbformat": 4
 },
 "nbformat": 4,
 "nbformat_minor": 2
}
