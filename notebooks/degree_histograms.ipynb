{
 "cells": [
  {
   "cell_type": "code",
   "execution_count": 7,
   "metadata": {},
   "outputs": [],
   "source": [
    "import pickle\n",
    "import networkx as nx\n",
    "import torch\n",
    "import numpy as np\n",
    "from communityaware.perturb import _perturb_graph_vmap\n",
    "import grakel\n",
    "import matplotlib.pyplot as plt\n",
    "import pickle"
   ]
  },
  {
   "cell_type": "code",
   "execution_count": 2,
   "metadata": {},
   "outputs": [],
   "source": [
    "def make_er_motif(n, motif):\n",
    "    while True:\n",
    "        target_degree = (2 + len(motif)-1) / 2\n",
    "        graph = nx.erdos_renyi_graph(n, 0.5)\n",
    "        connected = nx.is_connected(graph)\n",
    "        if connected:\n",
    "            break\n",
    "    \n",
    "    graph = nx.relabel_nodes(graph, {i: i+motif.number_of_nodes() for i in range(n)})\n",
    "    graph.add_edges_from(motif.edges())\n",
    "    graph.add_edge(motif.number_of_nodes()-1, motif.number_of_nodes())\n",
    "    graph = add_attributes(graph)\n",
    "    return graph\n",
    "\n",
    "def add_attributes(graph, use_degree=True):\n",
    "    if use_degree:\n",
    "        nx.set_node_attributes(graph, {i: graph.degree(i) for i in graph.nodes()}, 'node_label')\n",
    "    else:\n",
    "        nx.set_node_attributes(graph, {i: 1 for i in graph.nodes()}, 'node_label')\n",
    "    nx.set_edge_attributes(graph, {i: 1 for i in graph.edges()}, 'edge_label')\n",
    "    return graph"
   ]
  },
  {
   "cell_type": "code",
   "execution_count": 4,
   "metadata": {},
   "outputs": [],
   "source": [
    "motif_n = 10\n",
    "random_n = 10\n",
    "\n",
    "motif1 = nx.cycle_graph(motif_n)\n",
    "motif2 = nx.complete_graph(motif_n)\n",
    "\n",
    "graph1 = make_er_motif(random_n, motif1)\n",
    "graph2 = make_er_motif(random_n, motif2)"
   ]
  },
  {
   "cell_type": "code",
   "execution_count": 39,
   "metadata": {},
   "outputs": [],
   "source": [
    "number_of_nodes = motif_n + random_n\n",
    "p1 = 0.05\n",
    "p2 = 0.45\n",
    "\n",
    "noise_matrix = np.zeros((number_of_nodes, number_of_nodes))\n",
    "for i in range(motif_n):\n",
    "    for j in range(i+1, motif_n):\n",
    "        if i == 0 and j == motif_n-1:\n",
    "            continue\n",
    "        elif i == j - 1:\n",
    "            continue\n",
    "        else:\n",
    "            noise_matrix[i, j] = p1\n",
    "\n",
    "noise_matrix = noise_matrix + noise_matrix.T\n",
    "noise_matrix[motif_n:, motif_n:] = p2\n",
    "\n",
    "\n",
    "# no self-loops and put into torch format\n",
    "np.fill_diagonal(noise_matrix, 0)\n",
    "noise_matrix = torch.tensor(noise_matrix)"
   ]
  },
  {
   "cell_type": "code",
   "execution_count": 40,
   "metadata": {},
   "outputs": [],
   "source": [
    "noise_matrix_isotropic = np.ones((number_of_nodes, number_of_nodes)) * p1\n",
    "np.fill_diagonal(noise_matrix_isotropic, 0)\n",
    "noise_matrix_isotropic = torch.tensor(noise_matrix_isotropic)"
   ]
  },
  {
   "cell_type": "code",
   "execution_count": 41,
   "metadata": {},
   "outputs": [],
   "source": [
    "def perturb_graph(graph, noise_matrix):\n",
    "    A = torch.tensor(np.array(nx.adjacency_matrix(graph, nodelist=range(graph.number_of_nodes())).todense()))\n",
    "    perturbed_graph = _perturb_graph_vmap(A.unsqueeze(0), noise_matrix.unsqueeze(0)).numpy()\n",
    "    perturbed_graph = nx.from_numpy_matrix(perturbed_graph.squeeze())\n",
    "    return perturbed_graph"
   ]
  },
  {
   "cell_type": "code",
   "execution_count": 43,
   "metadata": {},
   "outputs": [
    {
     "name": "stderr",
     "output_type": "stream",
     "text": [
      "/tmp/ipykernel_17150/3195063783.py:2: FutureWarning: adjacency_matrix will return a scipy.sparse array instead of a matrix in Networkx 3.0.\n",
      "  A = torch.tensor(np.array(nx.adjacency_matrix(graph, nodelist=range(graph.number_of_nodes())).todense()))\n"
     ]
    }
   ],
   "source": [
    "data = []\n",
    "for _ in range(100):\n",
    "    graph1 = make_er_motif(random_n, motif1)\n",
    "    [data.append((graph1.degree(i), 'negative', 'clean', 'negative_clean'))  for i in graph1.nodes()]\n",
    "\n",
    "for _ in range(100):\n",
    "    graph2 = make_er_motif(random_n, motif2)\n",
    "    [data.append((graph2.degree(i), 'positive', 'clean', 'positive_clean'))  for i in graph2.nodes()]\n",
    "\n",
    "for _ in range(100):\n",
    "    graph1 = perturb_graph(make_er_motif(random_n, motif1), noise_matrix)\n",
    "    [data.append((graph1.degree(i), 'negative', 'anisotropic', 'negative_anis'))  for i in graph1.nodes()]\n",
    "\n",
    "for _ in range(100):\n",
    "    graph2 = perturb_graph(make_er_motif(random_n, motif2), noise_matrix)\n",
    "    [data.append((graph2.degree(i), 'positive', 'anisotropic', 'positive_anis'))  for i in graph2.nodes()]\n",
    "\n",
    "for _ in range(100):\n",
    "    graph1 = perturb_graph(make_er_motif(random_n, motif1), noise_matrix_isotropic)\n",
    "    [data.append((graph1.degree(i), 'negative', 'isotropic', 'negative_iso'))  for i in graph1.nodes()]\n",
    "\n",
    "for _ in range(100):\n",
    "    graph2 = perturb_graph(make_er_motif(random_n, motif2), noise_matrix_isotropic)\n",
    "    [data.append((graph2.degree(i), 'positive', 'isotropic', 'positive_iso'))  for i in graph2.nodes()]"
   ]
  },
  {
   "cell_type": "code",
   "execution_count": 55,
   "metadata": {},
   "outputs": [
    {
     "data": {
      "text/plain": [
       "<AxesSubplot:xlabel='degree', ylabel='Percent'>"
      ]
     },
     "execution_count": 55,
     "metadata": {},
     "output_type": "execute_result"
    },
    {
     "data": {
      "image/png": "[encoded data removed]",
      "text/plain": [
       "<Figure size 720x720 with 1 Axes>"
      ]
     },
     "metadata": {
      "needs_background": "light"
     },
     "output_type": "display_data"
    }
   ],
   "source": [
    "import seaborn as sns\n",
    "import pandas as pd\n",
    "\n",
    "fig, ax = plt.subplots(figsize=(10, 10))\n",
    "df = pd.DataFrame(data, columns=['degree', 'motif', 'noise', 'motif_noise'])\n",
    "hue_order=['negative_clean', 'negative_anis',  'negative_iso', 'positive_clean', 'positive_anis', 'positive_iso']\n",
    "sns.histplot(df, x='degree', hue='motif_noise', multiple=\"dodge\", ax=ax, hue_order=hue_order, common_norm=True, stat='percent', shrink=1.5)"
   ]
  },
  {
   "cell_type": "code",
   "execution_count": 64,
   "metadata": {},
   "outputs": [
    {
     "name": "stderr",
     "output_type": "stream",
     "text": [
      "/tmp/ipykernel_26450/27465004.py:1: FutureWarning: adjacency_matrix will return a scipy.sparse array instead of a matrix in Networkx 3.0.\n",
      "  plt.imshow(nx.adjacency_matrix(graph1).todense())\n"
     ]
    },
    {
     "data": {
      "text/plain": [
       "<matplotlib.image.AxesImage at 0x7f4a1412e460>"
      ]
     },
     "execution_count": 64,
     "metadata": {},
     "output_type": "execute_result"
    },
    {
     "data": {
      "image/png": "[encoded data removed]",
      "text/plain": [
       "<Figure size 432x288 with 1 Axes>"
      ]
     },
     "metadata": {
      "needs_background": "light"
     },
     "output_type": "display_data"
    }
   ],
   "source": [
    "plt.imshow(nx.adjacency_matrix(graph1).todense())"
   ]
  },
  {
   "cell_type": "code",
   "execution_count": 80,
   "metadata": {},
   "outputs": [
    {
     "data": {
      "text/plain": [
       "<matplotlib.image.AxesImage at 0x7f4a13acd130>"
      ]
     },
     "execution_count": 80,
     "metadata": {},
     "output_type": "execute_result"
    },
    {
     "data": {
      "image/png": "[encoded data removed]",
      "text/plain": [
       "<Figure size 432x288 with 1 Axes>"
      ]
     },
     "metadata": {
      "needs_background": "light"
     },
     "output_type": "display_data"
    }
   ],
   "source": [
    "motif_n = 4\n",
    "random_n = 3\n",
    "\n",
    "number_of_nodes = motif_n + random_n\n",
    "p1 = 0.2\n",
    "p2 = 0.5\n",
    "\n",
    "if p2 is None: # isotropic noise\n",
    "    noise_matrix = np.ones((number_of_nodes, number_of_nodes)) * p1\n",
    "else:\n",
    "    noise_matrix = np.zeros((number_of_nodes, number_of_nodes))\n",
    "    for i in range(motif_n):\n",
    "        for j in range(i+1, motif_n):\n",
    "            if i == 0 and j == motif_n-1:\n",
    "                continue\n",
    "            elif i == j - 1:\n",
    "                continue\n",
    "            else:\n",
    "                noise_matrix[i, j] = p1\n",
    "\n",
    "    noise_matrix = noise_matrix + noise_matrix.T\n",
    "    noise_matrix[motif_n:, motif_n:] = p2\n",
    "\n",
    "\n",
    "# no self-loops and put into torch format\n",
    "np.fill_diagonal(noise_matrix, 0)\n",
    "noise_matrix = torch.tensor(noise_matrix).numpy()\n",
    "\n",
    "plt.imshow(noise_matrix)"
   ]
  },
  {
   "cell_type": "code",
   "execution_count": 68,
   "metadata": {},
   "outputs": [
    {
     "data": {
      "text/plain": [
       "False"
      ]
     },
     "execution_count": 68,
     "metadata": {},
     "output_type": "execute_result"
    }
   ],
   "source": [
    "i == 0"
   ]
  },
  {
   "cell_type": "code",
   "execution_count": 15,
   "metadata": {},
   "outputs": [
    {
     "ename": "FileNotFoundError",
     "evalue": "[Errno 2] No such file or directory: 'data/malnet/processed/data.pt'",
     "output_type": "error",
     "traceback": [
      "\u001b[0;31m---------------------------------------------------------------------------\u001b[0m",
      "\u001b[0;31mFileNotFoundError\u001b[0m                         Traceback (most recent call last)",
      "\u001b[1;32m/data/kenlay/cert/communityaware/temp.ipynb Cell 13'\u001b[0m in \u001b[0;36m<cell line: 1>\u001b[0;34m()\u001b[0m\n\u001b[0;32m----> <a href='vscode-notebook-cell://ssh-remote%2Baimscdt1/data/kenlay/cert/communityaware/temp.ipynb#ch0000017vscode-remote?line=0'>1</a>\u001b[0m MyMalNetTiny(\u001b[39m'\u001b[39;49m\u001b[39mdata/malnet\u001b[39;49m\u001b[39m'\u001b[39;49m)\n",
      "\u001b[1;32m/data/kenlay/cert/communityaware/temp.ipynb Cell 12'\u001b[0m in \u001b[0;36mMyMalNetTiny.__init__\u001b[0;34m(self, root, transform, pre_transform, pre_filter)\u001b[0m\n\u001b[1;32m     <a href='vscode-notebook-cell://ssh-remote%2Baimscdt1/data/kenlay/cert/communityaware/temp.ipynb#ch0000011vscode-remote?line=21'>22</a>\u001b[0m \u001b[39mdef\u001b[39;00m \u001b[39m__init__\u001b[39m(\u001b[39mself\u001b[39m, root, transform\u001b[39m=\u001b[39m\u001b[39mNone\u001b[39;00m, pre_transform\u001b[39m=\u001b[39m\u001b[39mNone\u001b[39;00m, pre_filter\u001b[39m=\u001b[39m\u001b[39mNone\u001b[39;00m):\n\u001b[0;32m---> <a href='vscode-notebook-cell://ssh-remote%2Baimscdt1/data/kenlay/cert/communityaware/temp.ipynb#ch0000011vscode-remote?line=22'>23</a>\u001b[0m     \u001b[39msuper\u001b[39;49m()\u001b[39m.\u001b[39;49m\u001b[39m__init__\u001b[39;49m(root, transform, pre_transform, pre_filter)\n",
      "File \u001b[0;32m/data/kenlay/miniconda3/envs/cert/lib/python3.9/site-packages/torch_geometric/datasets/malnet_tiny.py:42\u001b[0m, in \u001b[0;36mMalNetTiny.__init__\u001b[0;34m(self, root, transform, pre_transform, pre_filter)\u001b[0m\n\u001b[1;32m     38\u001b[0m \u001b[39mdef\u001b[39;00m \u001b[39m__init__\u001b[39m(\u001b[39mself\u001b[39m, root: \u001b[39mstr\u001b[39m, transform: Optional[Callable] \u001b[39m=\u001b[39m \u001b[39mNone\u001b[39;00m,\n\u001b[1;32m     39\u001b[0m              pre_transform: Optional[Callable] \u001b[39m=\u001b[39m \u001b[39mNone\u001b[39;00m,\n\u001b[1;32m     40\u001b[0m              pre_filter: Optional[Callable] \u001b[39m=\u001b[39m \u001b[39mNone\u001b[39;00m):\n\u001b[1;32m     41\u001b[0m     \u001b[39msuper\u001b[39m()\u001b[39m.\u001b[39m\u001b[39m__init__\u001b[39m(root, transform, pre_transform, pre_filter)\n\u001b[0;32m---> 42\u001b[0m     \u001b[39mself\u001b[39m\u001b[39m.\u001b[39mdata, \u001b[39mself\u001b[39m\u001b[39m.\u001b[39mslices \u001b[39m=\u001b[39m torch\u001b[39m.\u001b[39;49mload(\u001b[39mself\u001b[39;49m\u001b[39m.\u001b[39;49mprocessed_paths[\u001b[39m0\u001b[39;49m])\n",
      "File \u001b[0;32m/data/kenlay/miniconda3/envs/cert/lib/python3.9/site-packages/torch/serialization.py:699\u001b[0m, in \u001b[0;36mload\u001b[0;34m(f, map_location, pickle_module, **pickle_load_args)\u001b[0m\n\u001b[1;32m    696\u001b[0m \u001b[39mif\u001b[39;00m \u001b[39m'\u001b[39m\u001b[39mencoding\u001b[39m\u001b[39m'\u001b[39m \u001b[39mnot\u001b[39;00m \u001b[39min\u001b[39;00m pickle_load_args\u001b[39m.\u001b[39mkeys():\n\u001b[1;32m    697\u001b[0m     pickle_load_args[\u001b[39m'\u001b[39m\u001b[39mencoding\u001b[39m\u001b[39m'\u001b[39m] \u001b[39m=\u001b[39m \u001b[39m'\u001b[39m\u001b[39mutf-8\u001b[39m\u001b[39m'\u001b[39m\n\u001b[0;32m--> 699\u001b[0m \u001b[39mwith\u001b[39;00m _open_file_like(f, \u001b[39m'\u001b[39;49m\u001b[39mrb\u001b[39;49m\u001b[39m'\u001b[39;49m) \u001b[39mas\u001b[39;00m opened_file:\n\u001b[1;32m    700\u001b[0m     \u001b[39mif\u001b[39;00m _is_zipfile(opened_file):\n\u001b[1;32m    701\u001b[0m         \u001b[39m# The zipfile reader is going to advance the current file position.\u001b[39;00m\n\u001b[1;32m    702\u001b[0m         \u001b[39m# If we want to actually tail call to torch.jit.load, we need to\u001b[39;00m\n\u001b[1;32m    703\u001b[0m         \u001b[39m# reset back to the original position.\u001b[39;00m\n\u001b[1;32m    704\u001b[0m         orig_position \u001b[39m=\u001b[39m opened_file\u001b[39m.\u001b[39mtell()\n",
      "File \u001b[0;32m/data/kenlay/miniconda3/envs/cert/lib/python3.9/site-packages/torch/serialization.py:231\u001b[0m, in \u001b[0;36m_open_file_like\u001b[0;34m(name_or_buffer, mode)\u001b[0m\n\u001b[1;32m    229\u001b[0m \u001b[39mdef\u001b[39;00m \u001b[39m_open_file_like\u001b[39m(name_or_buffer, mode):\n\u001b[1;32m    230\u001b[0m     \u001b[39mif\u001b[39;00m _is_path(name_or_buffer):\n\u001b[0;32m--> 231\u001b[0m         \u001b[39mreturn\u001b[39;00m _open_file(name_or_buffer, mode)\n\u001b[1;32m    232\u001b[0m     \u001b[39melse\u001b[39;00m:\n\u001b[1;32m    233\u001b[0m         \u001b[39mif\u001b[39;00m \u001b[39m'\u001b[39m\u001b[39mw\u001b[39m\u001b[39m'\u001b[39m \u001b[39min\u001b[39;00m mode:\n",
      "File \u001b[0;32m/data/kenlay/miniconda3/envs/cert/lib/python3.9/site-packages/torch/serialization.py:212\u001b[0m, in \u001b[0;36m_open_file.__init__\u001b[0;34m(self, name, mode)\u001b[0m\n\u001b[1;32m    211\u001b[0m \u001b[39mdef\u001b[39;00m \u001b[39m__init__\u001b[39m(\u001b[39mself\u001b[39m, name, mode):\n\u001b[0;32m--> 212\u001b[0m     \u001b[39msuper\u001b[39m(_open_file, \u001b[39mself\u001b[39m)\u001b[39m.\u001b[39m\u001b[39m__init__\u001b[39m(\u001b[39mopen\u001b[39;49m(name, mode))\n",
      "\u001b[0;31mFileNotFoundError\u001b[0m: [Errno 2] No such file or directory: 'data/malnet/processed/data.pt'"
     ]
    }
   ],
   "source": [
    "MyMalNetTiny('data/malnet')"
   ]
  },
  {
   "cell_type": "code",
   "execution_count": 16,
   "metadata": {},
   "outputs": [
    {
     "name": "stderr",
     "output_type": "stream",
     "text": [
      "Downloading http://malnet.cc.gatech.edu/graph-data/malnet-graphs-tiny.tar.gz\n",
      "Extracting data/malnet/raw/malnet-graphs-tiny.tar.gz\n"
     ]
    },
    {
     "ename": "KeyboardInterrupt",
     "evalue": "",
     "output_type": "error",
     "traceback": [
      "\u001b[0;31m---------------------------------------------------------------------------\u001b[0m",
      "\u001b[0;31mKeyboardInterrupt\u001b[0m                         Traceback (most recent call last)",
      "\u001b[1;32m/data/kenlay/cert/communityaware/temp.ipynb Cell 14'\u001b[0m in \u001b[0;36m<cell line: 1>\u001b[0;34m()\u001b[0m\n\u001b[0;32m----> <a href='vscode-notebook-cell://ssh-remote%2Baimscdt1/data/kenlay/cert/communityaware/temp.ipynb#ch0000016vscode-remote?line=0'>1</a>\u001b[0m dataset \u001b[39m=\u001b[39m torch_geometric\u001b[39m.\u001b[39;49mdatasets\u001b[39m.\u001b[39;49mMalNetTiny(\u001b[39m'\u001b[39;49m\u001b[39mdata/malnet\u001b[39;49m\u001b[39m'\u001b[39;49m)\n",
      "File \u001b[0;32m/data/kenlay/miniconda3/envs/cert/lib/python3.9/site-packages/torch_geometric/datasets/malnet_tiny.py:41\u001b[0m, in \u001b[0;36mMalNetTiny.__init__\u001b[0;34m(self, root, transform, pre_transform, pre_filter)\u001b[0m\n\u001b[1;32m     38\u001b[0m \u001b[39mdef\u001b[39;00m \u001b[39m__init__\u001b[39m(\u001b[39mself\u001b[39m, root: \u001b[39mstr\u001b[39m, transform: Optional[Callable] \u001b[39m=\u001b[39m \u001b[39mNone\u001b[39;00m,\n\u001b[1;32m     39\u001b[0m              pre_transform: Optional[Callable] \u001b[39m=\u001b[39m \u001b[39mNone\u001b[39;00m,\n\u001b[1;32m     40\u001b[0m              pre_filter: Optional[Callable] \u001b[39m=\u001b[39m \u001b[39mNone\u001b[39;00m):\n\u001b[0;32m---> 41\u001b[0m     \u001b[39msuper\u001b[39;49m()\u001b[39m.\u001b[39;49m\u001b[39m__init__\u001b[39;49m(root, transform, pre_transform, pre_filter)\n\u001b[1;32m     42\u001b[0m     \u001b[39mself\u001b[39m\u001b[39m.\u001b[39mdata, \u001b[39mself\u001b[39m\u001b[39m.\u001b[39mslices \u001b[39m=\u001b[39m torch\u001b[39m.\u001b[39mload(\u001b[39mself\u001b[39m\u001b[39m.\u001b[39mprocessed_paths[\u001b[39m0\u001b[39m])\n",
      "File \u001b[0;32m/data/kenlay/miniconda3/envs/cert/lib/python3.9/site-packages/torch_geometric/data/in_memory_dataset.py:56\u001b[0m, in \u001b[0;36mInMemoryDataset.__init__\u001b[0;34m(self, root, transform, pre_transform, pre_filter)\u001b[0m\n\u001b[1;32m     52\u001b[0m \u001b[39mdef\u001b[39;00m \u001b[39m__init__\u001b[39m(\u001b[39mself\u001b[39m, root: Optional[\u001b[39mstr\u001b[39m] \u001b[39m=\u001b[39m \u001b[39mNone\u001b[39;00m,\n\u001b[1;32m     53\u001b[0m              transform: Optional[Callable] \u001b[39m=\u001b[39m \u001b[39mNone\u001b[39;00m,\n\u001b[1;32m     54\u001b[0m              pre_transform: Optional[Callable] \u001b[39m=\u001b[39m \u001b[39mNone\u001b[39;00m,\n\u001b[1;32m     55\u001b[0m              pre_filter: Optional[Callable] \u001b[39m=\u001b[39m \u001b[39mNone\u001b[39;00m):\n\u001b[0;32m---> 56\u001b[0m     \u001b[39msuper\u001b[39;49m()\u001b[39m.\u001b[39;49m\u001b[39m__init__\u001b[39;49m(root, transform, pre_transform, pre_filter)\n\u001b[1;32m     57\u001b[0m     \u001b[39mself\u001b[39m\u001b[39m.\u001b[39mdata \u001b[39m=\u001b[39m \u001b[39mNone\u001b[39;00m\n\u001b[1;32m     58\u001b[0m     \u001b[39mself\u001b[39m\u001b[39m.\u001b[39mslices \u001b[39m=\u001b[39m \u001b[39mNone\u001b[39;00m\n",
      "File \u001b[0;32m/data/kenlay/miniconda3/envs/cert/lib/python3.9/site-packages/torch_geometric/data/dataset.py:84\u001b[0m, in \u001b[0;36mDataset.__init__\u001b[0;34m(self, root, transform, pre_transform, pre_filter)\u001b[0m\n\u001b[1;32m     81\u001b[0m \u001b[39mself\u001b[39m\u001b[39m.\u001b[39m_indices: Optional[Sequence] \u001b[39m=\u001b[39m \u001b[39mNone\u001b[39;00m\n\u001b[1;32m     83\u001b[0m \u001b[39mif\u001b[39;00m \u001b[39m'\u001b[39m\u001b[39mdownload\u001b[39m\u001b[39m'\u001b[39m \u001b[39min\u001b[39;00m \u001b[39mself\u001b[39m\u001b[39m.\u001b[39m\u001b[39m__class__\u001b[39m\u001b[39m.\u001b[39m\u001b[39m__dict__\u001b[39m:\n\u001b[0;32m---> 84\u001b[0m     \u001b[39mself\u001b[39;49m\u001b[39m.\u001b[39;49m_download()\n\u001b[1;32m     86\u001b[0m \u001b[39mif\u001b[39;00m \u001b[39m'\u001b[39m\u001b[39mprocess\u001b[39m\u001b[39m'\u001b[39m \u001b[39min\u001b[39;00m \u001b[39mself\u001b[39m\u001b[39m.\u001b[39m\u001b[39m__class__\u001b[39m\u001b[39m.\u001b[39m\u001b[39m__dict__\u001b[39m:\n\u001b[1;32m     87\u001b[0m     \u001b[39mself\u001b[39m\u001b[39m.\u001b[39m_process()\n",
      "File \u001b[0;32m/data/kenlay/miniconda3/envs/cert/lib/python3.9/site-packages/torch_geometric/data/dataset.py:145\u001b[0m, in \u001b[0;36mDataset._download\u001b[0;34m(self)\u001b[0m\n\u001b[1;32m    142\u001b[0m     \u001b[39mreturn\u001b[39;00m\n\u001b[1;32m    144\u001b[0m makedirs(\u001b[39mself\u001b[39m\u001b[39m.\u001b[39mraw_dir)\n\u001b[0;32m--> 145\u001b[0m \u001b[39mself\u001b[39;49m\u001b[39m.\u001b[39;49mdownload()\n",
      "File \u001b[0;32m/data/kenlay/miniconda3/envs/cert/lib/python3.9/site-packages/torch_geometric/datasets/malnet_tiny.py:55\u001b[0m, in \u001b[0;36mMalNetTiny.download\u001b[0;34m(self)\u001b[0m\n\u001b[1;32m     53\u001b[0m \u001b[39mdef\u001b[39;00m \u001b[39mdownload\u001b[39m(\u001b[39mself\u001b[39m):\n\u001b[1;32m     54\u001b[0m     path \u001b[39m=\u001b[39m download_url(\u001b[39mself\u001b[39m\u001b[39m.\u001b[39murl, \u001b[39mself\u001b[39m\u001b[39m.\u001b[39mraw_dir)\n\u001b[0;32m---> 55\u001b[0m     extract_tar(path, \u001b[39mself\u001b[39;49m\u001b[39m.\u001b[39;49mraw_dir)\n\u001b[1;32m     56\u001b[0m     os\u001b[39m.\u001b[39munlink(path)\n",
      "File \u001b[0;32m/data/kenlay/miniconda3/envs/cert/lib/python3.9/site-packages/torch_geometric/data/extract.py:26\u001b[0m, in \u001b[0;36mextract_tar\u001b[0;34m(path, folder, mode, log)\u001b[0m\n\u001b[1;32m     24\u001b[0m maybe_log(path, log)\n\u001b[1;32m     25\u001b[0m \u001b[39mwith\u001b[39;00m tarfile\u001b[39m.\u001b[39mopen(path, mode) \u001b[39mas\u001b[39;00m f:\n\u001b[0;32m---> 26\u001b[0m     f\u001b[39m.\u001b[39;49mextractall(folder)\n",
      "File \u001b[0;32m/data/kenlay/miniconda3/envs/cert/lib/python3.9/tarfile.py:2045\u001b[0m, in \u001b[0;36mTarFile.extractall\u001b[0;34m(self, path, members, numeric_owner)\u001b[0m\n\u001b[1;32m   2043\u001b[0m         tarinfo\u001b[39m.\u001b[39mmode \u001b[39m=\u001b[39m \u001b[39m0o700\u001b[39m\n\u001b[1;32m   2044\u001b[0m     \u001b[39m# Do not set_attrs directories, as we will do that further down\u001b[39;00m\n\u001b[0;32m-> 2045\u001b[0m     \u001b[39mself\u001b[39;49m\u001b[39m.\u001b[39;49mextract(tarinfo, path, set_attrs\u001b[39m=\u001b[39;49m\u001b[39mnot\u001b[39;49;00m tarinfo\u001b[39m.\u001b[39;49misdir(),\n\u001b[1;32m   2046\u001b[0m                  numeric_owner\u001b[39m=\u001b[39;49mnumeric_owner)\n\u001b[1;32m   2048\u001b[0m \u001b[39m# Reverse sort directories.\u001b[39;00m\n\u001b[1;32m   2049\u001b[0m directories\u001b[39m.\u001b[39msort(key\u001b[39m=\u001b[39m\u001b[39mlambda\u001b[39;00m a: a\u001b[39m.\u001b[39mname)\n",
      "File \u001b[0;32m/data/kenlay/miniconda3/envs/cert/lib/python3.9/tarfile.py:2086\u001b[0m, in \u001b[0;36mTarFile.extract\u001b[0;34m(self, member, path, set_attrs, numeric_owner)\u001b[0m\n\u001b[1;32m   2083\u001b[0m     tarinfo\u001b[39m.\u001b[39m_link_target \u001b[39m=\u001b[39m os\u001b[39m.\u001b[39mpath\u001b[39m.\u001b[39mjoin(path, tarinfo\u001b[39m.\u001b[39mlinkname)\n\u001b[1;32m   2085\u001b[0m \u001b[39mtry\u001b[39;00m:\n\u001b[0;32m-> 2086\u001b[0m     \u001b[39mself\u001b[39;49m\u001b[39m.\u001b[39;49m_extract_member(tarinfo, os\u001b[39m.\u001b[39;49mpath\u001b[39m.\u001b[39;49mjoin(path, tarinfo\u001b[39m.\u001b[39;49mname),\n\u001b[1;32m   2087\u001b[0m                          set_attrs\u001b[39m=\u001b[39;49mset_attrs,\n\u001b[1;32m   2088\u001b[0m                          numeric_owner\u001b[39m=\u001b[39;49mnumeric_owner)\n\u001b[1;32m   2089\u001b[0m \u001b[39mexcept\u001b[39;00m \u001b[39mOSError\u001b[39;00m \u001b[39mas\u001b[39;00m e:\n\u001b[1;32m   2090\u001b[0m     \u001b[39mif\u001b[39;00m \u001b[39mself\u001b[39m\u001b[39m.\u001b[39merrorlevel \u001b[39m>\u001b[39m \u001b[39m0\u001b[39m:\n",
      "File \u001b[0;32m/data/kenlay/miniconda3/envs/cert/lib/python3.9/tarfile.py:2159\u001b[0m, in \u001b[0;36mTarFile._extract_member\u001b[0;34m(self, tarinfo, targetpath, set_attrs, numeric_owner)\u001b[0m\n\u001b[1;32m   2156\u001b[0m     \u001b[39mself\u001b[39m\u001b[39m.\u001b[39m_dbg(\u001b[39m1\u001b[39m, tarinfo\u001b[39m.\u001b[39mname)\n\u001b[1;32m   2158\u001b[0m \u001b[39mif\u001b[39;00m tarinfo\u001b[39m.\u001b[39misreg():\n\u001b[0;32m-> 2159\u001b[0m     \u001b[39mself\u001b[39;49m\u001b[39m.\u001b[39;49mmakefile(tarinfo, targetpath)\n\u001b[1;32m   2160\u001b[0m \u001b[39melif\u001b[39;00m tarinfo\u001b[39m.\u001b[39misdir():\n\u001b[1;32m   2161\u001b[0m     \u001b[39mself\u001b[39m\u001b[39m.\u001b[39mmakedir(tarinfo, targetpath)\n",
      "File \u001b[0;32m/data/kenlay/miniconda3/envs/cert/lib/python3.9/tarfile.py:2208\u001b[0m, in \u001b[0;36mTarFile.makefile\u001b[0;34m(self, tarinfo, targetpath)\u001b[0m\n\u001b[1;32m   2206\u001b[0m     target\u001b[39m.\u001b[39mtruncate()\n\u001b[1;32m   2207\u001b[0m \u001b[39melse\u001b[39;00m:\n\u001b[0;32m-> 2208\u001b[0m     copyfileobj(source, target, tarinfo\u001b[39m.\u001b[39;49msize, ReadError, bufsize)\n",
      "File \u001b[0;32m/data/kenlay/miniconda3/envs/cert/lib/python3.9/tarfile.py:247\u001b[0m, in \u001b[0;36mcopyfileobj\u001b[0;34m(src, dst, length, exception, bufsize)\u001b[0m\n\u001b[1;32m    245\u001b[0m blocks, remainder \u001b[39m=\u001b[39m \u001b[39mdivmod\u001b[39m(length, bufsize)\n\u001b[1;32m    246\u001b[0m \u001b[39mfor\u001b[39;00m b \u001b[39min\u001b[39;00m \u001b[39mrange\u001b[39m(blocks):\n\u001b[0;32m--> 247\u001b[0m     buf \u001b[39m=\u001b[39m src\u001b[39m.\u001b[39;49mread(bufsize)\n\u001b[1;32m    248\u001b[0m     \u001b[39mif\u001b[39;00m \u001b[39mlen\u001b[39m(buf) \u001b[39m<\u001b[39m bufsize:\n\u001b[1;32m    249\u001b[0m         \u001b[39mraise\u001b[39;00m exception(\u001b[39m\"\u001b[39m\u001b[39munexpected end of data\u001b[39m\u001b[39m\"\u001b[39m)\n",
      "File \u001b[0;32m/data/kenlay/miniconda3/envs/cert/lib/python3.9/gzip.py:300\u001b[0m, in \u001b[0;36mGzipFile.read\u001b[0;34m(self, size)\u001b[0m\n\u001b[1;32m    298\u001b[0m     \u001b[39mimport\u001b[39;00m \u001b[39merrno\u001b[39;00m\n\u001b[1;32m    299\u001b[0m     \u001b[39mraise\u001b[39;00m \u001b[39mOSError\u001b[39;00m(errno\u001b[39m.\u001b[39mEBADF, \u001b[39m\"\u001b[39m\u001b[39mread() on write-only GzipFile object\u001b[39m\u001b[39m\"\u001b[39m)\n\u001b[0;32m--> 300\u001b[0m \u001b[39mreturn\u001b[39;00m \u001b[39mself\u001b[39;49m\u001b[39m.\u001b[39;49m_buffer\u001b[39m.\u001b[39;49mread(size)\n",
      "File \u001b[0;32m/data/kenlay/miniconda3/envs/cert/lib/python3.9/_compression.py:68\u001b[0m, in \u001b[0;36mDecompressReader.readinto\u001b[0;34m(self, b)\u001b[0m\n\u001b[1;32m     66\u001b[0m \u001b[39mdef\u001b[39;00m \u001b[39mreadinto\u001b[39m(\u001b[39mself\u001b[39m, b):\n\u001b[1;32m     67\u001b[0m     \u001b[39mwith\u001b[39;00m \u001b[39mmemoryview\u001b[39m(b) \u001b[39mas\u001b[39;00m view, view\u001b[39m.\u001b[39mcast(\u001b[39m\"\u001b[39m\u001b[39mB\u001b[39m\u001b[39m\"\u001b[39m) \u001b[39mas\u001b[39;00m byte_view:\n\u001b[0;32m---> 68\u001b[0m         data \u001b[39m=\u001b[39m \u001b[39mself\u001b[39;49m\u001b[39m.\u001b[39;49mread(\u001b[39mlen\u001b[39;49m(byte_view))\n\u001b[1;32m     69\u001b[0m         byte_view[:\u001b[39mlen\u001b[39m(data)] \u001b[39m=\u001b[39m data\n\u001b[1;32m     70\u001b[0m     \u001b[39mreturn\u001b[39;00m \u001b[39mlen\u001b[39m(data)\n",
      "File \u001b[0;32m/data/kenlay/miniconda3/envs/cert/lib/python3.9/gzip.py:495\u001b[0m, in \u001b[0;36m_GzipReader.read\u001b[0;34m(self, size)\u001b[0m\n\u001b[1;32m    492\u001b[0m \u001b[39m# Read a chunk of data from the file\u001b[39;00m\n\u001b[1;32m    493\u001b[0m buf \u001b[39m=\u001b[39m \u001b[39mself\u001b[39m\u001b[39m.\u001b[39m_fp\u001b[39m.\u001b[39mread(io\u001b[39m.\u001b[39mDEFAULT_BUFFER_SIZE)\n\u001b[0;32m--> 495\u001b[0m uncompress \u001b[39m=\u001b[39m \u001b[39mself\u001b[39;49m\u001b[39m.\u001b[39;49m_decompressor\u001b[39m.\u001b[39;49mdecompress(buf, size)\n\u001b[1;32m    496\u001b[0m \u001b[39mif\u001b[39;00m \u001b[39mself\u001b[39m\u001b[39m.\u001b[39m_decompressor\u001b[39m.\u001b[39munconsumed_tail \u001b[39m!=\u001b[39m \u001b[39mb\u001b[39m\u001b[39m\"\u001b[39m\u001b[39m\"\u001b[39m:\n\u001b[1;32m    497\u001b[0m     \u001b[39mself\u001b[39m\u001b[39m.\u001b[39m_fp\u001b[39m.\u001b[39mprepend(\u001b[39mself\u001b[39m\u001b[39m.\u001b[39m_decompressor\u001b[39m.\u001b[39munconsumed_tail)\n",
      "\u001b[0;31mKeyboardInterrupt\u001b[0m: "
     ]
    }
   ],
   "source": [
    "dataset = torch_geometric.datasets.MalNetTiny('data/malnet')"
   ]
  },
  {
   "cell_type": "code",
   "execution_count": 38,
   "metadata": {},
   "outputs": [
    {
     "name": "stderr",
     "output_type": "stream",
     "text": [
      "Downloading http://malnet.cc.gatech.edu/graph-data/malnet-graphs-tiny.tar.gz\n",
      "Extracting data/malnet/raw/malnet-graphs-tiny.tar.gz\n",
      "Processing...\n",
      "Done!\n"
     ]
    },
    {
     "data": {
      "text/plain": [
       "MalNetTiny(5000)"
      ]
     },
     "execution_count": 38,
     "metadata": {},
     "output_type": "execute_result"
    }
   ],
   "source": []
  },
  {
   "cell_type": "code",
   "execution_count": 41,
   "metadata": {},
   "outputs": [
    {
     "data": {
      "text/plain": [
       "True"
      ]
     },
     "execution_count": 41,
     "metadata": {},
     "output_type": "execute_result"
    }
   ],
   "source": [
    "hasattr(dataset, 'process')"
   ]
  },
  {
   "cell_type": "code",
   "execution_count": null,
   "metadata": {},
   "outputs": [],
   "source": []
  }
 ],
 "metadata": {
  "interpreter": {
   "hash": "d65551de787edf5c8148b81248acedb88d24ef64c2feeaf5a7c8f1aae967c178"
  },
  "kernelspec": {
   "display_name": "Python 3.9.12 ('cert')",
   "language": "python",
   "name": "python3"
  },
  "language_info": {
   "codemirror_mode": {
    "name": "ipython",
    "version": 3
   },
   "file_extension": ".py",
   "mimetype": "text/x-python",
   "name": "python",
   "nbconvert_exporter": "python",
   "pygments_lexer": "ipython3",
   "version": "3.9.12"
  },
  "orig_nbformat": 4
 },
 "nbformat": 4,
 "nbformat_minor": 2
}
